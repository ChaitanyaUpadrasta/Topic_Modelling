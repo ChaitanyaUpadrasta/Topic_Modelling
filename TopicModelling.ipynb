{
  "nbformat": 4,
  "nbformat_minor": 0,
  "metadata": {
    "accelerator": "GPU",
    "colab": {
      "name": "TopicModelling.ipynb",
      "provenance": [],
      "collapsed_sections": []
    },
    "kernelspec": {
      "display_name": "Python 3",
      "name": "python3"
    }
  },
  "cells": [
    {
      "cell_type": "code",
      "metadata": {
        "colab": {
          "base_uri": "https://localhost:8080/"
        },
        "id": "pcc67JhxhLgz",
        "outputId": "d7cda217-8b64-48d0-96f3-a7e39aa5b10b"
      },
      "source": [
        " pip install tika"
      ],
      "execution_count": null,
      "outputs": [
        {
          "output_type": "stream",
          "text": [
            "Collecting tika\n",
            "  Downloading https://files.pythonhosted.org/packages/96/07/244fbb9c74c0de8a3745cc9f3f496077a29f6418c7cbd90d68fd799574cb/tika-1.24.tar.gz\n",
            "Requirement already satisfied: setuptools in /usr/local/lib/python3.6/dist-packages (from tika) (50.3.2)\n",
            "Requirement already satisfied: requests in /usr/local/lib/python3.6/dist-packages (from tika) (2.23.0)\n",
            "Requirement already satisfied: chardet<4,>=3.0.2 in /usr/local/lib/python3.6/dist-packages (from requests->tika) (3.0.4)\n",
            "Requirement already satisfied: certifi>=2017.4.17 in /usr/local/lib/python3.6/dist-packages (from requests->tika) (2020.12.5)\n",
            "Requirement already satisfied: urllib3!=1.25.0,!=1.25.1,<1.26,>=1.21.1 in /usr/local/lib/python3.6/dist-packages (from requests->tika) (1.24.3)\n",
            "Requirement already satisfied: idna<3,>=2.5 in /usr/local/lib/python3.6/dist-packages (from requests->tika) (2.10)\n",
            "Building wheels for collected packages: tika\n",
            "  Building wheel for tika (setup.py) ... \u001b[?25l\u001b[?25hdone\n",
            "  Created wheel for tika: filename=tika-1.24-cp36-none-any.whl size=32885 sha256=9efb426c2050584b99e218bc580dad7894997bcc90b1093044b72e32a58ad373\n",
            "  Stored in directory: /root/.cache/pip/wheels/73/9c/f5/0b1b738442fc2a2862bef95b908b374f8e80215550fb2a8975\n",
            "Successfully built tika\n",
            "Installing collected packages: tika\n",
            "Successfully installed tika-1.24\n"
          ],
          "name": "stdout"
        }
      ]
    },
    {
      "cell_type": "code",
      "metadata": {
        "id": "CNAz5G4cRT2C"
      },
      "source": [
        "import os"
      ],
      "execution_count": null,
      "outputs": []
    },
    {
      "cell_type": "code",
      "metadata": {
        "colab": {
          "background_save": true,
          "base_uri": "https://localhost:8080/"
        },
        "id": "Nd2MVdJFZtSC",
        "outputId": "d49c5629-13f6-4601-c0c9-91f22b7fba4b"
      },
      "source": [
        "from os import listdir\n",
        "from os.path import isfile, join\n",
        "from tika import parser \n",
        "import nltk\n",
        "import gensim\n",
        "nltk.download('punkt')\n",
        "nltk.download('stopwords')\n",
        "nltk.download('wordnet')\n",
        "from gensim.utils import simple_preprocess\n",
        "from nltk.corpus import stopwords\n",
        "from nltk.stem import WordNetLemmatizer \n",
        "\n",
        "dirpath=\"/content/drive/MyDrive/Test_Papers_Zenodo\"\n",
        "\n",
        "#Preprocess pipeline\n",
        "files = [dirpath+'/'+f for f in listdir(dirpath)]\n",
        "docs=[]\n",
        "for file in files:\n",
        "  if \"ipynb_checkpoints\" not in file:\n",
        "    raw = parser.from_file(file)\n",
        "    text=raw['content']\n",
        "    doctext=text.strip('\\n').replace('-\\n','').replace('\\n',' ').replace('-',' ')\n",
        "    docs.append(doctext)\n",
        "\n",
        "docs_tokens=[gensim.utils.simple_preprocess(doc,deacc=True) for doc in docs]\n",
        "docs_nostop=[[w for w in doc if w not in stopwords.words('english')] for doc in docs_tokens]\n",
        "lemmatizer = WordNetLemmatizer() \n",
        "final_docs=[[lemmatizer.lemmatize(w) for w in doc] for doc in docs_nostop]"
      ],
      "execution_count": null,
      "outputs": [
        {
          "output_type": "stream",
          "text": [
            "[nltk_data] Downloading package punkt to /root/nltk_data...\n",
            "[nltk_data]   Unzipping tokenizers/punkt.zip.\n",
            "[nltk_data] Downloading package stopwords to /root/nltk_data...\n",
            "[nltk_data]   Unzipping corpora/stopwords.zip.\n",
            "[nltk_data] Downloading package wordnet to /root/nltk_data...\n",
            "[nltk_data]   Unzipping corpora/wordnet.zip.\n"
          ],
          "name": "stdout"
        },
        {
          "output_type": "stream",
          "text": [
            "2020-12-19 14:00:30,018 [MainThread  ] [INFO ]  Retrieving http://search.maven.org/remotecontent?filepath=org/apache/tika/tika-server/1.24/tika-server-1.24.jar to /tmp/tika-server.jar.\n",
            "2020-12-19 14:00:30,571 [MainThread  ] [INFO ]  Retrieving http://search.maven.org/remotecontent?filepath=org/apache/tika/tika-server/1.24/tika-server-1.24.jar.md5 to /tmp/tika-server.jar.md5.\n",
            "2020-12-19 14:00:30,818 [MainThread  ] [WARNI]  Failed to see startup log message; retrying...\n"
          ],
          "name": "stderr"
        }
      ]
    },
    {
      "cell_type": "code",
      "metadata": {
        "colab": {
          "base_uri": "https://localhost:8080/"
        },
        "id": "deVF-CBvXkAv",
        "outputId": "649870d7-afd9-44f2-fed8-82f755ed02d9"
      },
      "source": [
        "#bigram = gensim.models.Phrases(data_words, min_count=5, threshold=100) # higher threshold fewer phrases.\r\n",
        "#trigram = gensim.models.Phrases(bigram[data_words], threshold=100)  \r\n",
        "\r\n",
        "# Faster way to get a sentence clubbed as a trigram/bigram\r\n",
        "#bigram_mod = gensim.models.Phrases(docs_nostop)\r\n",
        "#trigram_mod = gensim.models.Phrases(bigram_mod[docs_nostop])"
      ],
      "execution_count": null,
      "outputs": [
        {
          "output_type": "stream",
          "text": [
            "/usr/local/lib/python3.6/dist-packages/gensim/models/phrases.py:598: UserWarning: For a faster implementation, use the gensim.models.phrases.Phraser class\n",
            "  warnings.warn(\"For a faster implementation, use the gensim.models.phrases.Phraser class\")\n"
          ],
          "name": "stderr"
        }
      ]
    },
    {
      "cell_type": "code",
      "metadata": {
        "colab": {
          "base_uri": "https://localhost:8080/"
        },
        "id": "kN63k7-LpJ0f",
        "outputId": "a7f69b5b-92a8-42fb-a161-6a48ef1f2fb9"
      },
      "source": [
        "#Proprocess pipeline old\n",
        "import nltk\n",
        "nltk.download('punkt')\n",
        "nltk.download('stopwords')\n",
        "nltk.download('wordnet')\n",
        "\n",
        "from nltk.tokenize import sent_tokenize, word_tokenize\n",
        "from nltk.stem import WordNetLemmatizer \n",
        "\n",
        "a=[word_tokenize(doc) for doc in docs]\n",
        "import re\n",
        "from nltk.corpus import stopwords\n",
        "docs = [[ re.sub('[^A-Za-z0]+', '', w).lower() for w in doc if re.sub('[^A-Za-z0]+', '', w).lower()] for doc in a]\n",
        "lemmatizer = WordNetLemmatizer() \n",
        "docs=[[lemmatizer.lemmatize(w) for w in doc] for doc in docs]\n",
        "final_docs= [[w for w in doc if w not in stopwords.words('english')] for doc in docs]\n"
      ],
      "execution_count": null,
      "outputs": [
        {
          "output_type": "stream",
          "text": [
            "[nltk_data] Downloading package punkt to /root/nltk_data...\n",
            "[nltk_data]   Package punkt is already up-to-date!\n",
            "[nltk_data] Downloading package stopwords to /root/nltk_data...\n",
            "[nltk_data]   Package stopwords is already up-to-date!\n",
            "[nltk_data] Downloading package wordnet to /root/nltk_data...\n",
            "[nltk_data]   Package wordnet is already up-to-date!\n"
          ],
          "name": "stdout"
        }
      ]
    },
    {
      "cell_type": "code",
      "metadata": {
        "id": "dIELWsqZIryC"
      },
      "source": [
        "#Gensim imports\r\n",
        "import gensim\r\n",
        "import gensim.corpora as corpora\r\n",
        "from gensim.utils import simple_preprocess\r\n",
        "from gensim.models import CoherenceModel\r\n",
        "\r\n",
        "dictionary = corpora.Dictionary(final_docs)"
      ],
      "execution_count": null,
      "outputs": []
    },
    {
      "cell_type": "code",
      "metadata": {
        "id": "hBFX-qOsSmy0"
      },
      "source": [
        "#Reducing dictionary size based on frequency\r\n",
        "dictionary.filter_extremes(keep_n=20000)\r\n",
        "dictionary.token2id.items()"
      ],
      "execution_count": null,
      "outputs": []
    },
    {
      "cell_type": "code",
      "metadata": {
        "id": "0fQvj1_smLtf"
      },
      "source": [
        "corpus = [dictionary.doc2bow(doc) for doc in final_docs]"
      ],
      "execution_count": null,
      "outputs": []
    },
    {
      "cell_type": "code",
      "metadata": {
        "id": "X6MhhP36mV3P"
      },
      "source": [
        "#LDA Model Training\n",
        "from gensim.models import LdaModel\n",
        "model = LdaModel(corpus=corpus,random_state=1, id2word=dictionary, num_topics=4)"
      ],
      "execution_count": null,
      "outputs": []
    },
    {
      "cell_type": "code",
      "metadata": {
        "colab": {
          "base_uri": "https://localhost:8080/"
        },
        "id": "Ni-nvBj2KCHM",
        "outputId": "3f661ba7-422b-49cb-b80b-30bbd3a9acea"
      },
      "source": [
        "# Compute Perplexity\r\n",
        "#print('\\nPerplexity: ', model.log_perplexity(corpus))  # a measure of how good the model is. lower the better.\r\n",
        "\r\n",
        "# Compute Coherence Score\r\n",
        "coherence_model_lda = CoherenceModel(model=model, texts=final_docs, dictionary=dictionary, coherence='c_v')\r\n",
        "coherence_lda = coherence_model_lda.get_coherence()\r\n",
        "print('\\nCoherence Score: ', coherence_lda)"
      ],
      "execution_count": null,
      "outputs": [
        {
          "output_type": "stream",
          "text": [
            "\n",
            "Coherence Score:  0.27886837189005176\n"
          ],
          "name": "stdout"
        }
      ]
    },
    {
      "cell_type": "code",
      "metadata": {
        "colab": {
          "base_uri": "https://localhost:8080/"
        },
        "id": "4BOeum23O7Qc",
        "outputId": "d62eb7aa-1634-4d5e-a551-8d7ed71a527d"
      },
      "source": [
        "#Mallet installation\r\n",
        "!wget http://mallet.cs.umass.edu/dist/mallet-2.0.8.zip\r\n",
        "!unzip mallet-2.0.8.zip"
      ],
      "execution_count": null,
      "outputs": [
        {
          "output_type": "stream",
          "text": [
            "--2020-12-16 16:27:12--  http://mallet.cs.umass.edu/dist/mallet-2.0.8.zip\n",
            "Resolving mallet.cs.umass.edu (mallet.cs.umass.edu)... 128.119.246.70\n",
            "Connecting to mallet.cs.umass.edu (mallet.cs.umass.edu)|128.119.246.70|:80... connected.\n",
            "HTTP request sent, awaiting response... 200 OK\n",
            "Length: 16184794 (15M) [application/zip]\n",
            "Saving to: ‘mallet-2.0.8.zip.1’\n",
            "\n",
            "mallet-2.0.8.zip.1  100%[===================>]  15.43M  4.60MB/s    in 3.4s    \n",
            "\n",
            "2020-12-16 16:27:17 (4.60 MB/s) - ‘mallet-2.0.8.zip.1’ saved [16184794/16184794]\n",
            "\n",
            "Archive:  mallet-2.0.8.zip\n",
            "replace mallet-2.0.8/bin/classifier2info? [y]es, [n]o, [A]ll, [N]one, [r]ename: yes\n",
            "  inflating: mallet-2.0.8/bin/classifier2info  \n",
            "replace mallet-2.0.8/bin/csv2classify? [y]es, [n]o, [A]ll, [N]one, [r]ename: yes\n",
            "  inflating: mallet-2.0.8/bin/csv2classify  \n",
            "replace mallet-2.0.8/bin/csv2vectors? [y]es, [n]o, [A]ll, [N]one, [r]ename: yes\n",
            "  inflating: mallet-2.0.8/bin/csv2vectors  \n",
            "replace mallet-2.0.8/bin/mallet? [y]es, [n]o, [A]ll, [N]one, [r]ename: y\n",
            "  inflating: mallet-2.0.8/bin/mallet  \n",
            "replace mallet-2.0.8/bin/mallet.bat? [y]es, [n]o, [A]ll, [N]one, [r]ename: n\n",
            "replace mallet-2.0.8/bin/mallethon? [y]es, [n]o, [A]ll, [N]one, [r]ename: n\n",
            "replace mallet-2.0.8/bin/prepend-license.sh? [y]es, [n]o, [A]ll, [N]one, [r]ename: n\n",
            "replace mallet-2.0.8/bin/svmlight2vectors? [y]es, [n]o, [A]ll, [N]one, [r]ename: "
          ],
          "name": "stdout"
        }
      ]
    },
    {
      "cell_type": "code",
      "metadata": {
        "id": "Bi9935vYRQKY"
      },
      "source": [
        "#Mallet setup\r\n",
        "os.environ['MALLET_HOME'] = '/content/mallet-2.0.8'\r\n",
        "mallet_path = '/content/mallet-2.0.8/bin/mallet' # you should NOT need to change this"
      ],
      "execution_count": null,
      "outputs": []
    },
    {
      "cell_type": "code",
      "metadata": {
        "id": "bIhZdQi0Rfqr"
      },
      "source": [
        "#Training Mallet\r\n",
        "from gensim.models.wrappers import LdaMallet\r\n",
        "ldamallet30 = LdaMallet(mallet_path, corpus=corpus, num_topics=10, id2word=dictionary)\r\n"
      ],
      "execution_count": null,
      "outputs": []
    },
    {
      "cell_type": "code",
      "metadata": {
        "colab": {
          "base_uri": "https://localhost:8080/"
        },
        "id": "yHLJc6tuR8MS",
        "outputId": "c743ecab-c49b-43a2-d5fc-d6cba03d2f2a"
      },
      "source": [
        "#Coherence scores\r\n",
        "coherence_model_lda = CoherenceModel(model=ldamallet30, texts=final_docs, dictionary=dictionary, coherence='c_v')\r\n",
        "coherence_lda = coherence_model_lda.get_coherence()\r\n",
        "print('\\nCoherence Score: ', coherence_lda)"
      ],
      "execution_count": null,
      "outputs": [
        {
          "output_type": "stream",
          "text": [
            "\n",
            "Coherence Score:  0.42307452618058133\n"
          ],
          "name": "stdout"
        }
      ]
    },
    {
      "cell_type": "code",
      "metadata": {
        "id": "OWbAiwObNA7F"
      },
      "source": [
        "#Selecting model based on coherence value\r\n",
        "def compute_coherence_values(dictionary, corpus, texts, limit, start=2, step=3):\r\n",
        "\r\n",
        "    coherence_values = []\r\n",
        "    model_list = []\r\n",
        "    for num_topics in range(start, limit, step):\r\n",
        "        model = LdaMallet(mallet_path, corpus=corpus, num_topics=num_topics, id2word=dictionary)\r\n",
        "        #model = LdaModel(corpus=corpus, num_topics=num_topics, id2word=dictionary)\r\n",
        "        model_list.append(model)\r\n",
        "        coherencemodel = CoherenceModel(model=model, texts=texts, dictionary=dictionary, coherence='c_v')\r\n",
        "        coherence_values.append(coherencemodel.get_coherence())\r\n",
        "\r\n",
        "    return model_list, coherence_values"
      ],
      "execution_count": null,
      "outputs": []
    },
    {
      "cell_type": "code",
      "metadata": {
        "id": "Q7u69-aDNGK7"
      },
      "source": [
        "model_list, coherence_values = compute_coherence_values(dictionary=dictionary, corpus=corpus, texts=final_docs, start=2, limit=30, step=2)"
      ],
      "execution_count": null,
      "outputs": []
    },
    {
      "cell_type": "code",
      "metadata": {
        "id": "gmHJa8wnN3VF"
      },
      "source": [
        "#Plotting coherence scores of different models\r\n",
        "import matplotlib.pyplot as plt\r\n",
        "%matplotlib inline\r\n",
        "limit=30; start=2; step=2;\r\n",
        "x = range(start, limit, step)\r\n",
        "plt.plot(x, coherence_values)\r\n",
        "plt.xlabel(\"Num Topics\")\r\n",
        "plt.ylabel(\"Coherence score\")\r\n",
        "plt.legend((\"coherence_values\"), loc='best')\r\n",
        "plt.show()"
      ],
      "execution_count": null,
      "outputs": []
    },
    {
      "cell_type": "code",
      "metadata": {
        "id": "b-kjkP2Cqeud"
      },
      "source": [
        "#CDocument words for a particular topic\n",
        "from gensim.matutils import cossim\n",
        "doc4 = model.get_document_topics(corpus[5], minimum_probability=0)\n",
        "doc4\n",
        "for k,v in model.get_topic_terms(1,topn=50):\n",
        "  for a,b in dictionary.token2id.items():\n",
        "    if(b==k):\n",
        "      print(a)\n",
        "\n",
        "    "
      ],
      "execution_count": null,
      "outputs": []
    },
    {
      "cell_type": "code",
      "metadata": {
        "colab": {
          "base_uri": "https://localhost:8080/"
        },
        "id": "sB534h7Ea7vj",
        "outputId": "a4cc7634-38e0-427b-e167-47b5f77c2a59"
      },
      "source": [
        "!pip install pyLDAvis"
      ],
      "execution_count": null,
      "outputs": [
        {
          "output_type": "stream",
          "text": [
            "Collecting pyLDAvis\n",
            "\u001b[?25l  Downloading https://files.pythonhosted.org/packages/a5/3a/af82e070a8a96e13217c8f362f9a73e82d61ac8fff3a2561946a97f96266/pyLDAvis-2.1.2.tar.gz (1.6MB)\n",
            "\r\u001b[K     |▏                               | 10kB 20.7MB/s eta 0:00:01\r\u001b[K     |▍                               | 20kB 28.6MB/s eta 0:00:01\r\u001b[K     |▋                               | 30kB 34.1MB/s eta 0:00:01\r\u001b[K     |▉                               | 40kB 32.1MB/s eta 0:00:01\r\u001b[K     |█                               | 51kB 31.3MB/s eta 0:00:01\r\u001b[K     |█▏                              | 61kB 24.5MB/s eta 0:00:01\r\u001b[K     |█▍                              | 71kB 25.0MB/s eta 0:00:01\r\u001b[K     |█▋                              | 81kB 21.7MB/s eta 0:00:01\r\u001b[K     |█▉                              | 92kB 19.8MB/s eta 0:00:01\r\u001b[K     |██                              | 102kB 21.1MB/s eta 0:00:01\r\u001b[K     |██▎                             | 112kB 21.1MB/s eta 0:00:01\r\u001b[K     |██▍                             | 122kB 21.1MB/s eta 0:00:01\r\u001b[K     |██▋                             | 133kB 21.1MB/s eta 0:00:01\r\u001b[K     |██▉                             | 143kB 21.1MB/s eta 0:00:01\r\u001b[K     |███                             | 153kB 21.1MB/s eta 0:00:01\r\u001b[K     |███▎                            | 163kB 21.1MB/s eta 0:00:01\r\u001b[K     |███▌                            | 174kB 21.1MB/s eta 0:00:01\r\u001b[K     |███▋                            | 184kB 21.1MB/s eta 0:00:01\r\u001b[K     |███▉                            | 194kB 21.1MB/s eta 0:00:01\r\u001b[K     |████                            | 204kB 21.1MB/s eta 0:00:01\r\u001b[K     |████▎                           | 215kB 21.1MB/s eta 0:00:01\r\u001b[K     |████▌                           | 225kB 21.1MB/s eta 0:00:01\r\u001b[K     |████▊                           | 235kB 21.1MB/s eta 0:00:01\r\u001b[K     |████▉                           | 245kB 21.1MB/s eta 0:00:01\r\u001b[K     |█████                           | 256kB 21.1MB/s eta 0:00:01\r\u001b[K     |█████▎                          | 266kB 21.1MB/s eta 0:00:01\r\u001b[K     |█████▌                          | 276kB 21.1MB/s eta 0:00:01\r\u001b[K     |█████▊                          | 286kB 21.1MB/s eta 0:00:01\r\u001b[K     |█████▉                          | 296kB 21.1MB/s eta 0:00:01\r\u001b[K     |██████                          | 307kB 21.1MB/s eta 0:00:01\r\u001b[K     |██████▎                         | 317kB 21.1MB/s eta 0:00:01\r\u001b[K     |██████▌                         | 327kB 21.1MB/s eta 0:00:01\r\u001b[K     |██████▊                         | 337kB 21.1MB/s eta 0:00:01\r\u001b[K     |███████                         | 348kB 21.1MB/s eta 0:00:01\r\u001b[K     |███████                         | 358kB 21.1MB/s eta 0:00:01\r\u001b[K     |███████▎                        | 368kB 21.1MB/s eta 0:00:01\r\u001b[K     |███████▌                        | 378kB 21.1MB/s eta 0:00:01\r\u001b[K     |███████▊                        | 389kB 21.1MB/s eta 0:00:01\r\u001b[K     |████████                        | 399kB 21.1MB/s eta 0:00:01\r\u001b[K     |████████▏                       | 409kB 21.1MB/s eta 0:00:01\r\u001b[K     |████████▎                       | 419kB 21.1MB/s eta 0:00:01\r\u001b[K     |████████▌                       | 430kB 21.1MB/s eta 0:00:01\r\u001b[K     |████████▊                       | 440kB 21.1MB/s eta 0:00:01\r\u001b[K     |█████████                       | 450kB 21.1MB/s eta 0:00:01\r\u001b[K     |█████████▏                      | 460kB 21.1MB/s eta 0:00:01\r\u001b[K     |█████████▍                      | 471kB 21.1MB/s eta 0:00:01\r\u001b[K     |█████████▌                      | 481kB 21.1MB/s eta 0:00:01\r\u001b[K     |█████████▊                      | 491kB 21.1MB/s eta 0:00:01\r\u001b[K     |██████████                      | 501kB 21.1MB/s eta 0:00:01\r\u001b[K     |██████████▏                     | 512kB 21.1MB/s eta 0:00:01\r\u001b[K     |██████████▍                     | 522kB 21.1MB/s eta 0:00:01\r\u001b[K     |██████████▋                     | 532kB 21.1MB/s eta 0:00:01\r\u001b[K     |██████████▊                     | 542kB 21.1MB/s eta 0:00:01\r\u001b[K     |███████████                     | 552kB 21.1MB/s eta 0:00:01\r\u001b[K     |███████████▏                    | 563kB 21.1MB/s eta 0:00:01\r\u001b[K     |███████████▍                    | 573kB 21.1MB/s eta 0:00:01\r\u001b[K     |███████████▋                    | 583kB 21.1MB/s eta 0:00:01\r\u001b[K     |███████████▊                    | 593kB 21.1MB/s eta 0:00:01\r\u001b[K     |████████████                    | 604kB 21.1MB/s eta 0:00:01\r\u001b[K     |████████████▏                   | 614kB 21.1MB/s eta 0:00:01\r\u001b[K     |████████████▍                   | 624kB 21.1MB/s eta 0:00:01\r\u001b[K     |████████████▋                   | 634kB 21.1MB/s eta 0:00:01\r\u001b[K     |████████████▉                   | 645kB 21.1MB/s eta 0:00:01\r\u001b[K     |█████████████                   | 655kB 21.1MB/s eta 0:00:01\r\u001b[K     |█████████████▏                  | 665kB 21.1MB/s eta 0:00:01\r\u001b[K     |█████████████▍                  | 675kB 21.1MB/s eta 0:00:01\r\u001b[K     |█████████████▋                  | 686kB 21.1MB/s eta 0:00:01\r\u001b[K     |█████████████▉                  | 696kB 21.1MB/s eta 0:00:01\r\u001b[K     |██████████████                  | 706kB 21.1MB/s eta 0:00:01\r\u001b[K     |██████████████▏                 | 716kB 21.1MB/s eta 0:00:01\r\u001b[K     |██████████████▍                 | 727kB 21.1MB/s eta 0:00:01\r\u001b[K     |██████████████▋                 | 737kB 21.1MB/s eta 0:00:01\r\u001b[K     |██████████████▉                 | 747kB 21.1MB/s eta 0:00:01\r\u001b[K     |███████████████                 | 757kB 21.1MB/s eta 0:00:01\r\u001b[K     |███████████████▎                | 768kB 21.1MB/s eta 0:00:01\r\u001b[K     |███████████████▍                | 778kB 21.1MB/s eta 0:00:01\r\u001b[K     |███████████████▋                | 788kB 21.1MB/s eta 0:00:01\r\u001b[K     |███████████████▉                | 798kB 21.1MB/s eta 0:00:01\r\u001b[K     |████████████████                | 808kB 21.1MB/s eta 0:00:01\r\u001b[K     |████████████████▎               | 819kB 21.1MB/s eta 0:00:01\r\u001b[K     |████████████████▌               | 829kB 21.1MB/s eta 0:00:01\r\u001b[K     |████████████████▋               | 839kB 21.1MB/s eta 0:00:01\r\u001b[K     |████████████████▉               | 849kB 21.1MB/s eta 0:00:01\r\u001b[K     |█████████████████               | 860kB 21.1MB/s eta 0:00:01\r\u001b[K     |█████████████████▎              | 870kB 21.1MB/s eta 0:00:01\r\u001b[K     |█████████████████▌              | 880kB 21.1MB/s eta 0:00:01\r\u001b[K     |█████████████████▋              | 890kB 21.1MB/s eta 0:00:01\r\u001b[K     |█████████████████▉              | 901kB 21.1MB/s eta 0:00:01\r\u001b[K     |██████████████████              | 911kB 21.1MB/s eta 0:00:01\r\u001b[K     |██████████████████▎             | 921kB 21.1MB/s eta 0:00:01\r\u001b[K     |██████████████████▌             | 931kB 21.1MB/s eta 0:00:01\r\u001b[K     |██████████████████▊             | 942kB 21.1MB/s eta 0:00:01\r\u001b[K     |██████████████████▉             | 952kB 21.1MB/s eta 0:00:01\r\u001b[K     |███████████████████             | 962kB 21.1MB/s eta 0:00:01\r\u001b[K     |███████████████████▎            | 972kB 21.1MB/s eta 0:00:01\r\u001b[K     |███████████████████▌            | 983kB 21.1MB/s eta 0:00:01\r\u001b[K     |███████████████████▊            | 993kB 21.1MB/s eta 0:00:01\r\u001b[K     |████████████████████            | 1.0MB 21.1MB/s eta 0:00:01\r\u001b[K     |████████████████████            | 1.0MB 21.1MB/s eta 0:00:01\r\u001b[K     |████████████████████▎           | 1.0MB 21.1MB/s eta 0:00:01\r\u001b[K     |████████████████████▌           | 1.0MB 21.1MB/s eta 0:00:01\r\u001b[K     |████████████████████▊           | 1.0MB 21.1MB/s eta 0:00:01\r\u001b[K     |█████████████████████           | 1.1MB 21.1MB/s eta 0:00:01\r\u001b[K     |█████████████████████▏          | 1.1MB 21.1MB/s eta 0:00:01\r\u001b[K     |█████████████████████▎          | 1.1MB 21.1MB/s eta 0:00:01\r\u001b[K     |█████████████████████▌          | 1.1MB 21.1MB/s eta 0:00:01\r\u001b[K     |█████████████████████▊          | 1.1MB 21.1MB/s eta 0:00:01\r\u001b[K     |██████████████████████          | 1.1MB 21.1MB/s eta 0:00:01\r\u001b[K     |██████████████████████▏         | 1.1MB 21.1MB/s eta 0:00:01\r\u001b[K     |██████████████████████▍         | 1.1MB 21.1MB/s eta 0:00:01\r\u001b[K     |██████████████████████▌         | 1.1MB 21.1MB/s eta 0:00:01\r\u001b[K     |██████████████████████▊         | 1.1MB 21.1MB/s eta 0:00:01\r\u001b[K     |███████████████████████         | 1.2MB 21.1MB/s eta 0:00:01\r\u001b[K     |███████████████████████▏        | 1.2MB 21.1MB/s eta 0:00:01\r\u001b[K     |███████████████████████▍        | 1.2MB 21.1MB/s eta 0:00:01\r\u001b[K     |███████████████████████▌        | 1.2MB 21.1MB/s eta 0:00:01\r\u001b[K     |███████████████████████▊        | 1.2MB 21.1MB/s eta 0:00:01\r\u001b[K     |████████████████████████        | 1.2MB 21.1MB/s eta 0:00:01\r\u001b[K     |████████████████████████▏       | 1.2MB 21.1MB/s eta 0:00:01\r\u001b[K     |████████████████████████▍       | 1.2MB 21.1MB/s eta 0:00:01\r\u001b[K     |████████████████████████▋       | 1.2MB 21.1MB/s eta 0:00:01\r\u001b[K     |████████████████████████▊       | 1.2MB 21.1MB/s eta 0:00:01\r\u001b[K     |█████████████████████████       | 1.3MB 21.1MB/s eta 0:00:01\r\u001b[K     |█████████████████████████▏      | 1.3MB 21.1MB/s eta 0:00:01\r\u001b[K     |█████████████████████████▍      | 1.3MB 21.1MB/s eta 0:00:01\r\u001b[K     |█████████████████████████▋      | 1.3MB 21.1MB/s eta 0:00:01\r\u001b[K     |█████████████████████████▉      | 1.3MB 21.1MB/s eta 0:00:01\r\u001b[K     |██████████████████████████      | 1.3MB 21.1MB/s eta 0:00:01\r\u001b[K     |██████████████████████████▏     | 1.3MB 21.1MB/s eta 0:00:01\r\u001b[K     |██████████████████████████▍     | 1.3MB 21.1MB/s eta 0:00:01\r\u001b[K     |██████████████████████████▋     | 1.3MB 21.1MB/s eta 0:00:01\r\u001b[K     |██████████████████████████▉     | 1.4MB 21.1MB/s eta 0:00:01\r\u001b[K     |███████████████████████████     | 1.4MB 21.1MB/s eta 0:00:01\r\u001b[K     |███████████████████████████▏    | 1.4MB 21.1MB/s eta 0:00:01\r\u001b[K     |███████████████████████████▍    | 1.4MB 21.1MB/s eta 0:00:01\r\u001b[K     |███████████████████████████▋    | 1.4MB 21.1MB/s eta 0:00:01\r\u001b[K     |███████████████████████████▉    | 1.4MB 21.1MB/s eta 0:00:01\r\u001b[K     |████████████████████████████    | 1.4MB 21.1MB/s eta 0:00:01\r\u001b[K     |████████████████████████████▏   | 1.4MB 21.1MB/s eta 0:00:01\r\u001b[K     |████████████████████████████▍   | 1.4MB 21.1MB/s eta 0:00:01\r\u001b[K     |████████████████████████████▋   | 1.4MB 21.1MB/s eta 0:00:01\r\u001b[K     |████████████████████████████▉   | 1.5MB 21.1MB/s eta 0:00:01\r\u001b[K     |█████████████████████████████   | 1.5MB 21.1MB/s eta 0:00:01\r\u001b[K     |█████████████████████████████▎  | 1.5MB 21.1MB/s eta 0:00:01\r\u001b[K     |█████████████████████████████▍  | 1.5MB 21.1MB/s eta 0:00:01\r\u001b[K     |█████████████████████████████▋  | 1.5MB 21.1MB/s eta 0:00:01\r\u001b[K     |█████████████████████████████▉  | 1.5MB 21.1MB/s eta 0:00:01\r\u001b[K     |██████████████████████████████  | 1.5MB 21.1MB/s eta 0:00:01\r\u001b[K     |██████████████████████████████▎ | 1.5MB 21.1MB/s eta 0:00:01\r\u001b[K     |██████████████████████████████▌ | 1.5MB 21.1MB/s eta 0:00:01\r\u001b[K     |██████████████████████████████▋ | 1.5MB 21.1MB/s eta 0:00:01\r\u001b[K     |██████████████████████████████▉ | 1.6MB 21.1MB/s eta 0:00:01\r\u001b[K     |███████████████████████████████ | 1.6MB 21.1MB/s eta 0:00:01\r\u001b[K     |███████████████████████████████▎| 1.6MB 21.1MB/s eta 0:00:01\r\u001b[K     |███████████████████████████████▌| 1.6MB 21.1MB/s eta 0:00:01\r\u001b[K     |███████████████████████████████▊| 1.6MB 21.1MB/s eta 0:00:01\r\u001b[K     |███████████████████████████████▉| 1.6MB 21.1MB/s eta 0:00:01\r\u001b[K     |████████████████████████████████| 1.6MB 21.1MB/s \n",
            "\u001b[?25hRequirement already satisfied: wheel>=0.23.0 in /usr/local/lib/python3.6/dist-packages (from pyLDAvis) (0.36.2)\n",
            "Requirement already satisfied: numpy>=1.9.2 in /usr/local/lib/python3.6/dist-packages (from pyLDAvis) (1.19.4)\n",
            "Requirement already satisfied: scipy>=0.18.0 in /usr/local/lib/python3.6/dist-packages (from pyLDAvis) (1.4.1)\n",
            "Requirement already satisfied: pandas>=0.17.0 in /usr/local/lib/python3.6/dist-packages (from pyLDAvis) (1.1.5)\n",
            "Requirement already satisfied: joblib>=0.8.4 in /usr/local/lib/python3.6/dist-packages (from pyLDAvis) (1.0.0)\n",
            "Requirement already satisfied: jinja2>=2.7.2 in /usr/local/lib/python3.6/dist-packages (from pyLDAvis) (2.11.2)\n",
            "Requirement already satisfied: numexpr in /usr/local/lib/python3.6/dist-packages (from pyLDAvis) (2.7.1)\n",
            "Requirement already satisfied: pytest in /usr/local/lib/python3.6/dist-packages (from pyLDAvis) (3.6.4)\n",
            "Requirement already satisfied: future in /usr/local/lib/python3.6/dist-packages (from pyLDAvis) (0.16.0)\n",
            "Collecting funcy\n",
            "  Downloading https://files.pythonhosted.org/packages/66/89/479de0afbbfb98d1c4b887936808764627300208bb771fcd823403645a36/funcy-1.15-py2.py3-none-any.whl\n",
            "Requirement already satisfied: python-dateutil>=2.7.3 in /usr/local/lib/python3.6/dist-packages (from pandas>=0.17.0->pyLDAvis) (2.8.1)\n",
            "Requirement already satisfied: pytz>=2017.2 in /usr/local/lib/python3.6/dist-packages (from pandas>=0.17.0->pyLDAvis) (2018.9)\n",
            "Requirement already satisfied: MarkupSafe>=0.23 in /usr/local/lib/python3.6/dist-packages (from jinja2>=2.7.2->pyLDAvis) (1.1.1)\n",
            "Requirement already satisfied: setuptools in /usr/local/lib/python3.6/dist-packages (from pytest->pyLDAvis) (50.3.2)\n",
            "Requirement already satisfied: more-itertools>=4.0.0 in /usr/local/lib/python3.6/dist-packages (from pytest->pyLDAvis) (8.6.0)\n",
            "Requirement already satisfied: pluggy<0.8,>=0.5 in /usr/local/lib/python3.6/dist-packages (from pytest->pyLDAvis) (0.7.1)\n",
            "Requirement already satisfied: atomicwrites>=1.0 in /usr/local/lib/python3.6/dist-packages (from pytest->pyLDAvis) (1.4.0)\n",
            "Requirement already satisfied: attrs>=17.4.0 in /usr/local/lib/python3.6/dist-packages (from pytest->pyLDAvis) (20.3.0)\n",
            "Requirement already satisfied: six>=1.10.0 in /usr/local/lib/python3.6/dist-packages (from pytest->pyLDAvis) (1.15.0)\n",
            "Requirement already satisfied: py>=1.5.0 in /usr/local/lib/python3.6/dist-packages (from pytest->pyLDAvis) (1.10.0)\n",
            "Building wheels for collected packages: pyLDAvis\n",
            "  Building wheel for pyLDAvis (setup.py) ... \u001b[?25l\u001b[?25hdone\n",
            "  Created wheel for pyLDAvis: filename=pyLDAvis-2.1.2-py2.py3-none-any.whl size=97712 sha256=ba69698c2479b61582774d4bace1202176e12aa328b7c26eaa4bfbaba6cabc7c\n",
            "  Stored in directory: /root/.cache/pip/wheels/98/71/24/513a99e58bb6b8465bae4d2d5e9dba8f0bef8179e3051ac414\n",
            "Successfully built pyLDAvis\n",
            "Installing collected packages: funcy, pyLDAvis\n",
            "Successfully installed funcy-1.15 pyLDAvis-2.1.2\n"
          ],
          "name": "stdout"
        }
      ]
    },
    {
      "cell_type": "code",
      "metadata": {
        "colab": {
          "base_uri": "https://localhost:8080/",
          "height": 860
        },
        "id": "4FqDHxyeJ1Dd",
        "outputId": "b14d7aa8-a238-4cc5-fc5f-ff759aa0fec4"
      },
      "source": [
        "#Visualization of Topics using PyLDAVis\r\n",
        "import pyLDAvis\r\n",
        "import pyLDAvis.gensim  # don't skip this\r\n",
        "import matplotlib.pyplot as plt\r\n",
        "%matplotlib inline\r\n",
        "pyLDAvis.enable_notebook()\r\n",
        "vis = pyLDAvis.gensim.prepare(model, corpus, dictionary)\r\n",
        "vis"
      ],
      "execution_count": null,
      "outputs": [
        {
          "output_type": "execute_result",
          "data": {
            "text/html": [
              "\n",
              "<link rel=\"stylesheet\" type=\"text/css\" href=\"https://cdn.rawgit.com/bmabey/pyLDAvis/files/ldavis.v1.0.0.css\">\n",
              "\n",
              "\n",
              "<div id=\"ldavis_el57140649147999480236734668\"></div>\n",
              "<script type=\"text/javascript\">\n",
              "\n",
              "var ldavis_el57140649147999480236734668_data = {\"mdsDat\": {\"x\": [0.003627132641184089, 0.006174814135879192, -0.0016375649648360563, -0.008164381812227207], \"y\": [-0.007916399652993667, 0.004720200501686778, 0.0039318494174500635, -0.0007356502661431835], \"topics\": [1, 2, 3, 4], \"cluster\": [1, 1, 1, 1], \"Freq\": [40.35816201386754, 28.196490801795733, 17.2384658070537, 14.206881377283029]}, \"tinfo\": {\"Term\": [\"music\", \"song\", \"data\", \"audio\", \"feature\", \"used\", \"time\", \"beat\", \"information\", \"set\", \"note\", \"figure\", \"proceeding\", \"method\", \"score\", \"different\", \"system\", \"user\", \"two\", \"page\", \"using\", \"ismir\", \"result\", \"musical\", \"voice\", \"algorithm\", \"similarity\", \"based\", \"example\", \"approach\", \"hb\", \"annot\", \"ntrj\", \"nai\", \"acp\", \"estim\", \"nej\", \"ajmera\", \"obon\", \"conp\", \"pai\", \"ngti\", \"dae\", \"clarisse\", \"ntr\", \"purity\", \"conpo\", \"transduction\", \"mlm\", \"rategt\", \"offran\", \"viitaniemi\", \"solomonoff\", \"cxprecision\", \"ngtin\", \"samplesumo\", \"ngt\", \"dea\", \"obp\", \"segmenta\", \"asp\", \"notewise\", \"yt\", \"segmentation\", \"note\", \"model\", \"chord\", \"timesteps\", \"measure\", \"ai\", \"pitch\", \"agreement\", \"conference\", \"section\", \"score\", \"state\", \"essentia\", \"offset\", \"finally\", \"evaluation\", \"transcription\", \"music\", \"journal\", \"value\", \"instance\", \"performance\", \"international\", \"ismir\", \"piece\", \"key\", \"training\", \"dimension\", \"using\", \"th\", \"based\", \"one\", \"audio\", \"structure\", \"network\", \"dataset\", \"also\", \"annotation\", \"musical\", \"result\", \"information\", \"retrieval\", \"feature\", \"data\", \"method\", \"two\", \"system\", \"used\", \"time\", \"song\", \"set\", \"figure\", \"spectr\", \"ampl\", \"zc\", \"xv\", \"erhu\", \"eo\", \"autotags\", \"newsgroup\", \"primitive\", \"\\u03c6o\", \"sql\", \"dilruba\", \"changer\", \"container\", \"textindex\", \"balalaika\", \"erb\", \"hihat\", \"beatboxing\", \"beatbox\", \"igr\", \"sketchinpainter\", \"rms\", \"igor\", \"wlpc\", \"framus\", \"melodica\", \"audioscrobbler\", \"pacc\", \"lease\", \"ethnic\", \"video\", \"eh\", \"bark\", \"contributor\", \"inpaintnet\", \"diversity\", \"lpc\", \"feature\", \"record\", \"search\", \"tag\", \"dance\", \"information\", \"list\", \"complexity\", \"instrument\", \"use\", \"query\", \"user\", \"class\", \"learning\", \"music\", \"set\", \"selection\", \"song\", \"however\", \"time\", \"several\", \"system\", \"rhythm\", \"work\", \"figure\", \"level\", \"first\", \"genre\", \"experiment\", \"retrieval\", \"source\", \"result\", \"vector\", \"frequency\", \"one\", \"different\", \"using\", \"used\", \"performance\", \"data\", \"based\", \"number\", \"model\", \"audio\", \"international\", \"analysis\", \"conference\", \"musical\", \"method\", \"curator\", \"gargi\", \"toponym\", \"euskomedia\", \"artaxuriketak\", \"papa\", \"genius\", \"poosl\", \"schoenauer\", \"jectives\", \"poetry\", \"audacity\", \"poem\", \"subfingerprint\", \"listens\", \"resourceful\", \"ullas\", \"atti\", \"nafarroa\", \"vocalness\", \"supervisor\", \"bizkaia\", \"sebag\", \"municipality\", \"ayush\", \"toggled\", \"bluetooth\", \"workout\", \"implicated\", \"basque\", \"vw\", \"oip\", \"fingerprint\", \"fh\", \"cp\", \"manager\", \"poet\", \"retention\", \"di\", \"poetic\", \"playlist\", \"peer\", \"song\", \"hear\", \"label\", \"repeating\", \"attribute\", \"proceeding\", \"unison\", \"moq\", \"sheet\", \"music\", \"user\", \"well\", \"u\", \"used\", \"page\", \"lyric\", \"voice\", \"using\", \"similarity\", \"study\", \"recommendation\", \"filtering\", \"table\", \"classification\", \"audio\", \"system\", \"musical\", \"annotation\", \"genre\", \"method\", \"figure\", \"beat\", \"time\", \"also\", \"one\", \"retrieval\", \"conference\", \"two\", \"based\", \"feature\", \"analysis\", \"result\", \"model\", \"algorithm\", \"information\", \"data\", \"work\", \"number\", \"th\", \"set\", \"phonograph\", \"issued\", \"jhq\", \"pkm\", \"yyyy\", \"yesterday\", \"bac\", \"xwm\", \"baus\", \"lo_\", \"turnover\", \"iea\", \"xmn\", \"aacr\", \"qpp\", \"iyd\", \"multiplicity\", \"lna\", \"e\\u03c6\", \"eaus\", \"xtac\", \"rgj\", \"acrgj\", \"iep\", \"efi\", \"qcz\", \"lomo\", \"ead\", \"rgmoik\", \"stylus\", \"moi\", \"ik\", \"loq\", \"lo\", \"rg\", \"jh\", \"mol\", \"ac\", \"mo\", \"bp\", \"fh\", \"cloud\", \"mg\", \"qc\", \"data\", \"mozj\", \"mn\", \"disc\", \"beat\", \"audio\", \"matrix\", \"error\", \"period\", \"score\", \"ismir\", \"set\", \"voice\", \"different\", \"song\", \"time\", \"music\", \"page\", \"note\", \"method\", \"example\", \"two\", \"result\", \"used\", \"information\", \"figure\", \"tempo\", \"approach\", \"algorithm\", \"feature\", \"musical\", \"based\", \"pattern\", \"system\", \"use\", \"model\", \"proceeding\", \"using\", \"performance\", \"pitch\"], \"Freq\": [10951.0, 3397.0, 2743.0, 3605.0, 4141.0, 2539.0, 2588.0, 1379.0, 3577.0, 2305.0, 2901.0, 2331.0, 1692.0, 2153.0, 1825.0, 1820.0, 2582.0, 1891.0, 1970.0, 1117.0, 3149.0, 1880.0, 2617.0, 2321.0, 798.0, 1823.0, 1658.0, 2784.0, 1427.0, 1744.0, 5.155123074574696, 5.93884235357636, 20.145023129244812, 4.149525702421997, 7.435995593429278, 4.807536876696406, 4.0279953188952256, 4.000713697345192, 6.340016889940256, 7.88944675034268, 3.9856776090600157, 20.33072778065511, 3.946318088398325, 3.90260291228137, 3.9124541869341645, 9.264925920251798, 3.838613273718646, 10.836833692330302, 49.68908259133183, 4.4572721374024695, 3.001606419197486, 2.9667459829055476, 2.953362288416199, 2.9374136111311144, 2.9372114716376245, 2.9234974013901263, 3.6372298076846334, 2.2023427418977164, 4.3256553794043615, 3.662217596613001, 8.735546019532794, 21.110731813017193, 15.704436126390332, 354.6032285999081, 1680.2391893177057, 2408.0969056553386, 893.7873098472671, 26.100352340413764, 854.4241779699623, 102.40900715268073, 1041.8476608912956, 122.42457654525904, 1348.797016331009, 850.8165385515968, 922.8563389246275, 455.3115901009036, 80.20920645931886, 98.69469164228063, 217.15615166347598, 628.4145039534767, 285.3802176059181, 4491.80462052015, 291.5528624802436, 753.622868352317, 246.94272701724302, 1011.8650375241126, 924.7279580224446, 882.8386149917675, 539.3091327206106, 354.9319089613379, 551.2219500442395, 202.3224892146136, 1372.7073590136533, 787.3605956321535, 1219.933747407677, 1046.7522891005021, 1491.8950585969883, 546.223615630907, 734.780834853093, 683.5428889069456, 829.7189640883366, 527.6389363496978, 967.8299114118264, 1050.8106280036443, 1321.0846342328357, 888.3265750337642, 1388.3632497312913, 1018.0910451646992, 860.1148440110359, 802.6686889998307, 950.3015446279201, 928.4079783146269, 886.4817856405404, 947.3662958406384, 811.3702148138578, 811.3900569295398, 5.862939056189155, 16.74967744329148, 11.585914267633875, 6.001524462587256, 3.6401095338737246, 3.616197532521047, 2.9862427526746025, 6.991868907673641, 12.744811390356293, 7.917076293956942, 10.924129291846256, 2.918706110125321, 3.542028842047054, 19.35465174139632, 5.94906068894065, 2.2694226094418766, 32.659520005241944, 10.986435712572968, 6.586657687857022, 1.6249852316682618, 6.650483952899813, 13.065720185011877, 29.299319810464066, 6.039135931859067, 14.033393259238444, 2.2018645581007377, 2.77704305496832, 2.7219677685267065, 2.1172321856769543, 3.672519206441567, 42.93716207247067, 115.4710009201478, 7.936572327200897, 16.810769139962535, 25.108510304483502, 6.344252594167886, 101.5020196992823, 29.29231067995336, 1667.7618285214232, 106.88555006025062, 357.891051259031, 319.31896841713194, 196.3844265637119, 1301.6934161153345, 190.7442152229075, 140.32929821861762, 358.7767750761427, 711.5022669798698, 298.7935400123078, 666.1417304163681, 318.6050330636256, 449.82542070914957, 3122.8898840576007, 779.4547366312362, 150.256495274283, 1064.9153042130695, 315.13122162772777, 827.3715592226072, 200.05462030760262, 820.2061841106168, 237.23512448252137, 594.4713991766522, 736.5790534127482, 452.63013219886545, 503.92073283660324, 554.5801835801727, 391.7855599108086, 692.4683815477244, 333.7875639149924, 772.7372089777173, 364.22509455806994, 378.8725020425116, 687.6029914448463, 560.393127530294, 819.5089900725316, 695.7120056535688, 620.5371437004147, 731.4320315525116, 738.8395685255307, 531.2463361866193, 951.144640635508, 830.3680474314793, 557.8590864965054, 512.3035032457735, 640.0272127068259, 587.7242115310255, 538.1639766750886, 7.820523818103886, 1.9579959446677746, 3.8230253349936754, 1.839458077439391, 4.774339328184766, 3.934232003937671, 39.30578877533579, 3.579059017674359, 2.1474365984844344, 2.126410905706203, 22.994717087132145, 6.051521752454091, 5.601956316110333, 2.0642011996172958, 9.704602401175455, 2.0801403470140074, 1.7083690500431792, 1.0122261605552263, 6.925391260896822, 4.113452271776266, 5.053435651313794, 1.3531175317251507, 2.0568900193076387, 2.0146201958510828, 1.3199137610334293, 1.5754760951548101, 3.9908252382590326, 2.6296033964671404, 1.3208334879823602, 5.7101664482214325, 10.731386358882043, 7.399475856576088, 95.32288906561391, 25.0045059117851, 23.030517145151002, 10.222291865241454, 7.392631908995331, 5.334289596619803, 32.7604829802446, 14.116007928277897, 177.3049761734288, 61.80344063179681, 867.6268568273607, 9.821266278000122, 190.88921078253944, 35.20081752551338, 100.60626877291416, 402.1769824318097, 33.5756536273975, 26.8606657994607, 82.81365225629521, 2027.6530025695283, 423.29067862651607, 211.91739370883644, 124.2170467316317, 534.8542113057175, 258.01236792535144, 203.9214244409862, 191.6697551729171, 621.8917952563104, 353.49566124246724, 267.4862638276787, 108.2505200249531, 43.97411070956467, 275.55573733892135, 283.09115416201087, 659.3357944735384, 484.03809937847745, 441.1531811925891, 238.42279017178183, 333.3237091291638, 405.746774227072, 431.1370630282402, 281.09940175256884, 460.2527400425932, 357.8128846182128, 425.07443415952076, 400.70132244801, 460.3181491049952, 360.28274545623293, 458.9446995803085, 592.8131167387272, 323.6514742532851, 402.1158250992495, 519.9591909120734, 324.5061001086562, 465.625912905296, 402.9582025938178, 318.5708823494371, 313.43259644263526, 305.6236047377987, 321.7501907708761, 9.34411913980198, 6.337692006484629, 7.231679624884509, 4.7959353761402275, 1.472168653707702, 8.589733692409693, 7.382819950496548, 6.716175529954257, 5.311035914849163, 2.1104545476815324, 1.4298824519709739, 3.041976339213846, 4.14374464980311, 6.354933610650005, 5.4320813887760915, 3.748191387081766, 6.3593506114479235, 8.237475159394164, 1.419348836909348, 7.009215360103327, 2.0291673384068565, 3.3479216290083196, 1.9820061920199876, 10.692545871488523, 3.9502436114000026, 1.6783125501449916, 5.517564966359314, 1.0135823929184624, 1.6620653331646666, 2.3769521261962225, 36.123336231698964, 24.272697856471495, 6.6127411334986546, 36.160992777000935, 32.22854081000686, 18.688334001834352, 8.048590543102295, 97.83093891667568, 50.76773522587808, 40.697188056474346, 25.273079283616635, 54.87680050929497, 14.099185474574767, 26.00031007465055, 590.6722968854612, 11.905540150536876, 55.4570280605077, 18.178037341271175, 281.692911156908, 624.1232366836525, 166.66834521699883, 180.3516117991677, 57.01993422759013, 340.72078450539425, 344.9103550852455, 392.98642180189677, 165.31317369391164, 317.0202619300879, 517.3966394520723, 413.9783881459961, 1308.8720377612638, 210.5588790915173, 444.1707343730989, 349.45420234180307, 253.36590693415184, 317.7300219637382, 391.46062105212314, 380.37146172169486, 489.21137374646577, 352.22822097590455, 243.11520472580074, 279.0517665812869, 282.3403415152041, 492.94581702820733, 325.04714528194324, 366.3329206310847, 216.2659660972027, 328.31504421409545, 274.76712352193965, 407.75196453032265, 249.0858817472526, 335.84008781940923, 275.95271006085386, 256.52773403233374], \"Total\": [10951.0, 3397.0, 2743.0, 3605.0, 4141.0, 2539.0, 2588.0, 1379.0, 3577.0, 2305.0, 2901.0, 2331.0, 1692.0, 2153.0, 1825.0, 1820.0, 2582.0, 1891.0, 1970.0, 1117.0, 3149.0, 1880.0, 2617.0, 2321.0, 798.0, 1823.0, 1658.0, 2784.0, 1427.0, 1744.0, 6.577531513253475, 7.579593668519927, 25.75240282065466, 5.380675042907808, 9.649130803195492, 6.385622602967175, 5.353928379921305, 5.333146081166106, 8.453760188530126, 10.52950495152738, 5.32304923734503, 27.38198665128799, 5.321246960935094, 5.282448958002047, 5.312796547333223, 12.646696286099045, 5.250913343068463, 15.099577683599716, 69.3016790114729, 6.252479296570329, 4.212655701978281, 4.18192087202876, 4.178718389397435, 4.170417675981466, 4.170309038248052, 4.167004237377866, 5.189788744991614, 3.147954601462903, 6.193639510097228, 5.248923987293196, 12.533847679085474, 30.946133215161982, 22.925881363592527, 553.1215585304544, 2901.371548646294, 4286.952701733243, 1588.252003376887, 40.101045018775835, 1551.3583495775322, 169.13883234638624, 2016.476808635458, 207.6512957434606, 2674.391243215583, 1636.8662605881946, 1825.0545445552475, 855.6568446795359, 133.4240849794274, 167.02559969569714, 391.1898164164577, 1247.5428351152868, 533.7359549863189, 10951.219544908543, 549.9050151457784, 1561.7706217479254, 460.54357505969756, 2176.043070044823, 1975.7261977758162, 1880.966713934264, 1096.1065550750222, 691.4545680314629, 1132.4356765145935, 372.4143202886362, 3149.948232161905, 1690.6300725363967, 2784.0509361446007, 2360.7869840277563, 3605.7221371856585, 1146.5775702973397, 1620.2813429245048, 1497.6764690408177, 1886.3167567647477, 1110.5687075995406, 2321.754449417384, 2617.1242831327345, 3577.6153369999315, 2208.606355547323, 4141.884012019649, 2743.1535761964897, 2153.4797972549995, 1970.2879730963477, 2582.86087233111, 2539.345656995608, 2588.084473051737, 3397.3050963331407, 2305.5615640178667, 2331.3343943464324, 8.941900696704838, 26.624507498312102, 18.729539876084186, 9.73250764630816, 5.917185157809059, 5.960371771356807, 4.926977095876996, 11.549661561545413, 21.322200768022668, 13.27587631727286, 18.37373235991519, 4.97038772151205, 6.061248863332653, 33.57594248332045, 10.395473050296454, 3.9966604664864422, 57.658000939896844, 19.407679371208967, 11.646160574867329, 2.875211157871014, 11.770349732155255, 23.22160201648359, 52.07731999378572, 10.75510361552247, 25.05002475445834, 3.9615207716237433, 5.011064947660291, 4.913799170769709, 3.8388362943032472, 6.661964475403978, 79.03687713881048, 214.85237865284358, 14.47090136905288, 31.121006291339857, 48.02951958550761, 11.670043557295008, 210.81388327372048, 57.74634774284499, 4141.884012019649, 225.66293233205585, 839.1289220915448, 744.4375315340096, 454.330599204082, 3577.6153369999315, 454.13330940696164, 328.6271306294864, 929.557330633585, 1990.4906256601307, 762.7338017152999, 1891.9676252806091, 829.0484424410083, 1234.9272115095398, 10951.219544908543, 2305.5615640178667, 363.1722743485059, 3397.3050963331407, 851.6005528589765, 2588.084473051737, 509.3459813698661, 2582.86087233111, 620.7143172499217, 1809.1832274834262, 2331.3343943464324, 1316.6170477417504, 1499.768248072277, 1683.2107600601657, 1117.4992170742685, 2208.606355547323, 925.1756893311198, 2617.1242831327345, 1049.6090274602432, 1103.4748815432313, 2360.7869840277563, 1820.7424043596081, 3149.948232161905, 2539.345656995608, 2176.043070044823, 2743.1535761964897, 2784.0509361446007, 1775.1693839893906, 4286.952701733243, 3605.7221371856585, 1975.7261977758162, 1746.826700101079, 2674.391243215583, 2321.754449417384, 2153.4797972549995, 16.36666816463323, 4.335234544730513, 8.956835317183213, 4.442879773454013, 11.55491261170212, 9.610955096782604, 96.19971605718067, 8.816150415216036, 5.3329307820873195, 5.3122912067400945, 57.50783889542727, 15.277596761684766, 14.224649345320483, 5.270707053338193, 25.02612065192835, 5.37350198712049, 4.4246773094156655, 2.6368467426405506, 18.08944206550468, 10.808639962365197, 13.309159380876077, 3.588667280508192, 5.455830709788429, 5.420914173688075, 3.5644989041918524, 4.266383061061005, 10.825092248084152, 7.150833294546884, 3.5946087330875236, 15.604339909255977, 29.37262765085619, 20.309645587330525, 274.19568227778564, 70.23173301472778, 65.75942035786015, 28.654905119951504, 20.54648503920347, 14.688340451903452, 98.46735740961557, 40.77720673995291, 597.2672340803122, 195.48445721527327, 3397.3050963331407, 27.95524091291638, 691.0485700173268, 110.49640558251147, 352.8958301701238, 1692.92197290082, 108.82505138453125, 85.29779954735353, 300.5072021919818, 10951.219544908543, 1891.9676252806091, 877.0551917751939, 483.0992798890086, 2539.345656995608, 1117.8608189866272, 854.6128010274272, 798.8630240079601, 3149.948232161905, 1658.0575792745126, 1224.0877748418116, 427.7019350043169, 150.10928312634724, 1272.9409532837876, 1324.3634872258515, 3605.7221371856585, 2582.86087233111, 2321.754449417384, 1110.5687075995406, 1683.2107600601657, 2153.4797972549995, 2331.3343943464324, 1379.9163618517189, 2588.084473051737, 1886.3167567647477, 2360.7869840277563, 2208.606355547323, 2674.391243215583, 1970.2879730963477, 2784.0509361446007, 4141.884012019649, 1746.826700101079, 2617.1242831327345, 4286.952701733243, 1823.3509406138635, 3577.6153369999315, 2743.1535761964897, 1809.1832274834262, 1775.1693839893906, 1690.6300725363967, 2305.5615640178667, 18.82384820229764, 13.282542591967697, 15.530058064784225, 10.43546094304288, 3.3463467857954967, 19.56298805217083, 16.954507127606146, 15.424280914512629, 12.283999272331958, 4.912759768162996, 3.382338155071462, 7.2087044714101705, 9.928552623850567, 15.23256606071913, 13.068234688038789, 9.01832946575327, 15.372306108415358, 20.00488413023068, 3.454154371617399, 17.218339264965202, 5.001508288077568, 8.256885710743685, 4.903032456422578, 26.460622428772243, 9.806850545645714, 4.170459153576967, 13.717049328823155, 2.5436708675541153, 4.187112573169205, 5.997453407464203, 91.73260558341482, 61.526447292234565, 16.70256380468614, 97.36204173191948, 86.63542167694763, 49.739681802010125, 20.882708099890408, 283.92721174926737, 145.6415459797971, 116.58505395727477, 70.23173301472778, 162.87562654589493, 38.521414174937675, 77.76482371859656, 2743.1535761964897, 33.01017747520926, 195.35009894041923, 53.874302840343375, 1379.9163618517189, 3605.7221371856585, 750.1556823694796, 835.7253731664398, 211.3228795971621, 1825.0545445552475, 1880.966713934264, 2305.5615640178667, 798.8630240079601, 1820.7424043596081, 3397.3050963331407, 2588.084473051737, 10951.219544908543, 1117.8608189866272, 2901.371548646294, 2153.4797972549995, 1427.4288050594678, 1970.2879730963477, 2617.1242831327345, 2539.345656995608, 3577.6153369999315, 2331.3343943464324, 1433.7135735195423, 1744.304184874473, 1823.3509406138635, 4141.884012019649, 2321.754449417384, 2784.0509361446007, 1295.152515966421, 2582.86087233111, 1990.4906256601307, 4286.952701733243, 1692.92197290082, 3149.948232161905, 2176.043070044823, 2016.476808635458], \"Category\": [\"Default\", \"Default\", \"Default\", \"Default\", \"Default\", \"Default\", \"Default\", \"Default\", \"Default\", \"Default\", \"Default\", \"Default\", \"Default\", \"Default\", \"Default\", \"Default\", \"Default\", \"Default\", \"Default\", \"Default\", \"Default\", \"Default\", \"Default\", \"Default\", \"Default\", \"Default\", \"Default\", \"Default\", \"Default\", \"Default\", \"Topic1\", \"Topic1\", \"Topic1\", \"Topic1\", \"Topic1\", \"Topic1\", \"Topic1\", \"Topic1\", \"Topic1\", \"Topic1\", \"Topic1\", \"Topic1\", \"Topic1\", \"Topic1\", \"Topic1\", \"Topic1\", \"Topic1\", \"Topic1\", \"Topic1\", \"Topic1\", \"Topic1\", \"Topic1\", \"Topic1\", \"Topic1\", \"Topic1\", \"Topic1\", \"Topic1\", \"Topic1\", \"Topic1\", \"Topic1\", \"Topic1\", \"Topic1\", \"Topic1\", \"Topic1\", \"Topic1\", \"Topic1\", \"Topic1\", \"Topic1\", \"Topic1\", \"Topic1\", \"Topic1\", \"Topic1\", \"Topic1\", \"Topic1\", \"Topic1\", \"Topic1\", \"Topic1\", \"Topic1\", \"Topic1\", \"Topic1\", \"Topic1\", \"Topic1\", \"Topic1\", \"Topic1\", \"Topic1\", \"Topic1\", \"Topic1\", \"Topic1\", \"Topic1\", \"Topic1\", \"Topic1\", \"Topic1\", \"Topic1\", \"Topic1\", \"Topic1\", \"Topic1\", \"Topic1\", \"Topic1\", \"Topic1\", \"Topic1\", \"Topic1\", \"Topic1\", \"Topic1\", \"Topic1\", \"Topic1\", \"Topic1\", \"Topic1\", \"Topic1\", \"Topic1\", \"Topic1\", \"Topic1\", \"Topic1\", \"Topic1\", \"Topic1\", \"Topic1\", \"Topic1\", \"Topic2\", \"Topic2\", \"Topic2\", \"Topic2\", \"Topic2\", \"Topic2\", \"Topic2\", \"Topic2\", \"Topic2\", \"Topic2\", \"Topic2\", \"Topic2\", \"Topic2\", \"Topic2\", \"Topic2\", \"Topic2\", \"Topic2\", \"Topic2\", \"Topic2\", \"Topic2\", \"Topic2\", \"Topic2\", \"Topic2\", \"Topic2\", \"Topic2\", \"Topic2\", \"Topic2\", \"Topic2\", \"Topic2\", \"Topic2\", \"Topic2\", \"Topic2\", \"Topic2\", \"Topic2\", \"Topic2\", \"Topic2\", \"Topic2\", \"Topic2\", \"Topic2\", \"Topic2\", \"Topic2\", \"Topic2\", \"Topic2\", \"Topic2\", \"Topic2\", \"Topic2\", \"Topic2\", \"Topic2\", \"Topic2\", \"Topic2\", \"Topic2\", \"Topic2\", \"Topic2\", \"Topic2\", \"Topic2\", \"Topic2\", \"Topic2\", \"Topic2\", \"Topic2\", \"Topic2\", \"Topic2\", \"Topic2\", \"Topic2\", \"Topic2\", \"Topic2\", \"Topic2\", \"Topic2\", \"Topic2\", \"Topic2\", \"Topic2\", \"Topic2\", \"Topic2\", \"Topic2\", \"Topic2\", \"Topic2\", \"Topic2\", \"Topic2\", \"Topic2\", \"Topic2\", \"Topic2\", \"Topic2\", \"Topic2\", \"Topic2\", \"Topic2\", \"Topic2\", \"Topic2\", \"Topic2\", \"Topic3\", \"Topic3\", \"Topic3\", \"Topic3\", \"Topic3\", \"Topic3\", \"Topic3\", \"Topic3\", \"Topic3\", \"Topic3\", \"Topic3\", \"Topic3\", \"Topic3\", \"Topic3\", \"Topic3\", \"Topic3\", \"Topic3\", \"Topic3\", \"Topic3\", \"Topic3\", \"Topic3\", \"Topic3\", \"Topic3\", \"Topic3\", \"Topic3\", \"Topic3\", \"Topic3\", \"Topic3\", \"Topic3\", \"Topic3\", \"Topic3\", \"Topic3\", \"Topic3\", \"Topic3\", \"Topic3\", \"Topic3\", \"Topic3\", \"Topic3\", \"Topic3\", \"Topic3\", \"Topic3\", \"Topic3\", \"Topic3\", \"Topic3\", \"Topic3\", \"Topic3\", \"Topic3\", \"Topic3\", \"Topic3\", \"Topic3\", \"Topic3\", \"Topic3\", \"Topic3\", \"Topic3\", \"Topic3\", \"Topic3\", \"Topic3\", \"Topic3\", \"Topic3\", \"Topic3\", \"Topic3\", \"Topic3\", \"Topic3\", \"Topic3\", \"Topic3\", \"Topic3\", \"Topic3\", \"Topic3\", \"Topic3\", \"Topic3\", \"Topic3\", \"Topic3\", \"Topic3\", \"Topic3\", \"Topic3\", \"Topic3\", \"Topic3\", \"Topic3\", \"Topic3\", \"Topic3\", \"Topic3\", \"Topic3\", \"Topic3\", \"Topic3\", \"Topic3\", \"Topic3\", \"Topic3\", \"Topic3\", \"Topic3\", \"Topic3\", \"Topic3\", \"Topic3\", \"Topic4\", \"Topic4\", \"Topic4\", \"Topic4\", \"Topic4\", \"Topic4\", \"Topic4\", \"Topic4\", \"Topic4\", \"Topic4\", \"Topic4\", \"Topic4\", \"Topic4\", \"Topic4\", \"Topic4\", \"Topic4\", \"Topic4\", \"Topic4\", \"Topic4\", \"Topic4\", \"Topic4\", \"Topic4\", \"Topic4\", \"Topic4\", \"Topic4\", \"Topic4\", \"Topic4\", \"Topic4\", \"Topic4\", \"Topic4\", \"Topic4\", \"Topic4\", \"Topic4\", \"Topic4\", \"Topic4\", \"Topic4\", \"Topic4\", \"Topic4\", \"Topic4\", \"Topic4\", \"Topic4\", \"Topic4\", \"Topic4\", \"Topic4\", \"Topic4\", \"Topic4\", \"Topic4\", \"Topic4\", \"Topic4\", \"Topic4\", \"Topic4\", \"Topic4\", \"Topic4\", \"Topic4\", \"Topic4\", \"Topic4\", \"Topic4\", \"Topic4\", \"Topic4\", \"Topic4\", \"Topic4\", \"Topic4\", \"Topic4\", \"Topic4\", \"Topic4\", \"Topic4\", \"Topic4\", \"Topic4\", \"Topic4\", \"Topic4\", \"Topic4\", \"Topic4\", \"Topic4\", \"Topic4\", \"Topic4\", \"Topic4\", \"Topic4\", \"Topic4\", \"Topic4\", \"Topic4\", \"Topic4\", \"Topic4\", \"Topic4\", \"Topic4\"], \"logprob\": [30.0, 29.0, 28.0, 27.0, 26.0, 25.0, 24.0, 23.0, 22.0, 21.0, 20.0, 19.0, 18.0, 17.0, 16.0, 15.0, 14.0, 13.0, 12.0, 11.0, 10.0, 9.0, 8.0, 7.0, 6.0, 5.0, 4.0, 3.0, 2.0, 1.0, -10.913700103759766, -10.772100448608398, -9.550700187683105, -11.13070011138916, -10.547300338745117, -10.983499526977539, -11.160400390625, -11.167200088500977, -10.70680046081543, -10.488100051879883, -11.170900344848633, -9.541500091552734, -11.180899620056152, -11.192000389099121, -11.189499855041504, -10.327400207519531, -11.208499908447266, -10.170700073242188, -8.647899627685547, -11.059100151062012, -11.454500198364258, -11.46619987487793, -11.47070026397705, -11.476099967956543, -11.476200103759766, -11.480899810791016, -11.262399673461914, -11.764100074768066, -11.089099884033203, -11.255599975585938, -10.386300086975098, -9.503899574279785, -9.799699783325195, -6.682700157165527, -5.126999855041504, -4.767099857330322, -5.758200168609619, -9.29170036315918, -5.803199768066406, -7.924699783325195, -5.604899883270264, -7.746200084686279, -5.346700191497803, -5.807499885559082, -5.726200103759766, -6.432700157165527, -8.168999671936035, -7.961599826812744, -7.172999858856201, -6.110499858856201, -6.899799823760986, -4.143599987030029, -6.878399848937988, -5.928800106048584, -7.04449987411499, -5.634099960327148, -5.7241997718811035, -5.770500183105469, -6.263400077819824, -6.681700229644775, -6.241499900817871, -7.243800163269043, -5.329100131988525, -5.885000228881836, -5.4471001625061035, -5.600200176239014, -5.245800018310547, -6.2505998611450195, -5.954100131988525, -6.026400089263916, -5.832600116729736, -6.285200119018555, -5.678599834442139, -5.59630012512207, -5.367400169372559, -5.7642998695373535, -5.317800045013428, -5.627999782562256, -5.796599864959717, -5.865699768066406, -5.696899890899658, -5.720200061798096, -5.76639986038208, -5.699999809265137, -5.854899883270264, -5.854899883270264, -10.426400184631348, -9.376700401306152, -9.74530029296875, -10.402999877929688, -10.902999877929688, -10.909600257873535, -11.10099983215332, -10.250300407409668, -9.649900436401367, -10.12600040435791, -9.804100036621094, -11.123900413513184, -10.930399894714355, -9.232099533081055, -10.411800384521484, -11.375499725341797, -8.708900451660156, -9.798399925231934, -10.3100004196167, -11.709600448608398, -10.300399780273438, -9.625100135803223, -8.817500114440918, -10.39680004119873, -9.553600311279297, -11.405799865722656, -11.173700332641602, -11.193699836730957, -11.444899559020996, -10.894200325012207, -8.43529987335205, -7.446000099182129, -10.123600006103516, -9.373000144958496, -8.971799850463867, -10.34749984741211, -7.574999809265137, -8.817700386047363, -4.7758002281188965, -7.5233001708984375, -6.314799785614014, -6.428899765014648, -6.914999961853027, -5.023600101470947, -6.9440999031066895, -7.251100063323975, -6.312399864196777, -5.627699851989746, -6.495299816131592, -5.693600177764893, -6.431099891662598, -6.08620023727417, -4.148499965667725, -5.536499977111816, -7.182700157165527, -5.224400043487549, -6.4421000480651855, -5.476799964904785, -6.896500110626221, -5.485499858856201, -6.72599983215332, -5.807400226593018, -5.5929999351501465, -6.079999923706055, -5.972599983215332, -5.876800060272217, -6.224299907684326, -5.654799938201904, -6.3846001625061035, -5.545100212097168, -6.297299861907959, -6.257900238037109, -5.661799907684326, -5.866399765014648, -5.486299991607666, -5.650100231170654, -5.764500141143799, -5.600100040435791, -5.590000152587891, -5.9197998046875, -5.337399959564209, -5.473199844360352, -5.8709001541137695, -5.956099987030029, -5.733500003814697, -5.81879997253418, -5.906899929046631, -9.646200180053711, -11.031100273132324, -10.362000465393066, -11.093500137329102, -10.139699935913086, -10.33329963684082, -8.031599998474121, -10.427900314331055, -10.938699722290039, -10.948599815368652, -8.567700386047363, -9.902700424194336, -9.979900360107422, -10.978300094604492, -9.430399894714355, -10.970600128173828, -11.167499542236328, -11.690799713134766, -9.767800331115723, -10.288700103759766, -10.082900047302246, -11.40060043334961, -10.981800079345703, -11.002599716186523, -11.425399780273438, -11.24839973449707, -10.319000244140625, -10.736200332641602, -11.424699783325195, -9.960800170898438, -9.32979965209961, -9.701600074768066, -7.145699977874756, -8.48390007019043, -8.566200256347656, -9.378399848937988, -9.702500343322754, -10.028800010681152, -8.213800430297852, -9.055700302124023, -6.525100231170654, -7.578999996185303, -4.93720006942749, -9.418399810791016, -6.451300144195557, -8.141900062561035, -7.091800212860107, -5.706099987030029, -8.189200401306152, -8.412300109863281, -7.286399841308594, -4.088399887084961, -5.654900074005127, -6.346799850463867, -6.88100004196167, -5.421000003814697, -6.150000095367432, -6.385300159454346, -6.447199821472168, -5.270199775695801, -5.835100173950195, -6.113900184631348, -7.018599987030029, -7.919400215148926, -6.084199905395508, -6.057199954986572, -5.2118000984191895, -5.5208001136779785, -5.61359977722168, -6.229000091552734, -5.893899917602539, -5.697299957275391, -5.636600017547607, -6.064300060272217, -5.571199893951416, -5.822999954223633, -5.650700092315674, -5.709799766540527, -5.571100234985352, -5.816100120544434, -5.574100017547607, -5.3180999755859375, -5.923299789428711, -5.706299781799316, -5.4492998123168945, -5.9207000732421875, -5.559599876403809, -5.70419979095459, -5.939199924468994, -5.955399990081787, -5.980599880218506, -5.929200172424316, -9.274800300598145, -9.663100242614746, -9.531100273132324, -9.941800117492676, -11.12279987335205, -9.359000205993652, -9.51039981842041, -9.60509967803955, -9.839799880981445, -10.762700080871582, -11.152000427246094, -10.397100448608398, -10.088000297546387, -9.660400390625, -9.817299842834473, -10.188300132751465, -9.659700393676758, -9.400899887084961, -11.15939998626709, -9.562399864196777, -10.802000045776367, -10.301199913024902, -10.825499534606934, -9.140000343322754, -10.1358003616333, -10.991800308227539, -9.801600456237793, -11.496100425720215, -11.001500129699707, -10.643799781799316, -7.922599792480469, -8.320199966430664, -9.620599746704102, -7.921599864959717, -8.036700248718262, -8.581700325012207, -9.424099922180176, -6.926300048828125, -7.582300186157227, -7.803400039672852, -8.279800415039062, -7.504499912261963, -8.863499641418457, -8.251500129699707, -5.128300189971924, -9.032600402832031, -7.49399995803833, -8.609399795532227, -5.868800163269043, -5.073200225830078, -6.393599987030029, -6.314700126647949, -7.46619987487793, -5.678500175476074, -5.666299819946289, -5.535799980163574, -6.401700019836426, -5.7505998611450195, -5.260799884796143, -5.483799934387207, -4.332699775695801, -6.159800052642822, -5.413400173187256, -5.653200149536133, -5.974699974060059, -5.7484002113342285, -5.539700031280518, -5.568399906158447, -5.316800117492676, -5.645299911499023, -6.015999794006348, -5.878200054168701, -5.866499900817871, -5.309199810028076, -5.725599765777588, -5.605999946594238, -6.1331000328063965, -5.71560001373291, -5.893700122833252, -5.498899936676025, -5.991799831390381, -5.69290018081665, -5.889400005340576, -5.962299823760986], \"loglift\": [30.0, 29.0, 28.0, 27.0, 26.0, 25.0, 24.0, 23.0, 22.0, 21.0, 20.0, 19.0, 18.0, 17.0, 16.0, 15.0, 14.0, 13.0, 12.0, 11.0, 10.0, 9.0, 8.0, 7.0, 6.0, 5.0, 4.0, 3.0, 2.0, 1.0, 0.6637, 0.6634, 0.6618, 0.6476, 0.6468, 0.6235, 0.6228, 0.6199, 0.6196, 0.6187, 0.618, 0.6096, 0.6085, 0.6046, 0.6014, 0.5962, 0.5941, 0.5757, 0.5747, 0.5689, 0.5684, 0.5641, 0.5603, 0.5569, 0.5568, 0.553, 0.5519, 0.5501, 0.5484, 0.5474, 0.5463, 0.5249, 0.5291, 0.4628, 0.3611, 0.3306, 0.3325, 0.4779, 0.3109, 0.4056, 0.247, 0.379, 0.2229, 0.253, 0.2255, 0.2765, 0.3985, 0.3813, 0.3188, 0.2216, 0.2813, 0.0162, 0.2729, 0.1787, 0.2841, 0.1417, 0.1482, 0.151, 0.1981, 0.2405, 0.1874, 0.2972, 0.0768, 0.1432, 0.0823, 0.0941, 0.0249, 0.1659, 0.1166, 0.123, 0.0861, 0.1632, 0.0324, -0.0051, -0.0889, -0.0034, -0.1856, -0.0838, -0.0104, 0.0094, -0.0925, -0.0988, -0.164, -0.3697, -0.137, -0.1481, 0.8439, 0.8025, 0.7857, 0.7825, 0.7801, 0.7663, 0.7653, 0.7641, 0.7513, 0.749, 0.746, 0.7336, 0.7288, 0.7151, 0.7078, 0.7, 0.6976, 0.697, 0.696, 0.6953, 0.6951, 0.6909, 0.6908, 0.6889, 0.6865, 0.6786, 0.6757, 0.6753, 0.6709, 0.6704, 0.6558, 0.645, 0.6653, 0.6501, 0.6174, 0.6565, 0.5351, 0.5872, 0.3563, 0.5187, 0.4138, 0.4195, 0.4272, 0.2549, 0.3985, 0.415, 0.314, 0.2372, 0.3288, 0.2221, 0.3096, 0.2561, 0.0113, 0.1815, 0.3834, 0.1059, 0.2718, 0.1256, 0.3314, 0.1189, 0.3042, 0.153, 0.1138, 0.1982, 0.1753, 0.1557, 0.2178, 0.1061, 0.2465, 0.0461, 0.2076, 0.197, 0.0324, 0.0876, -0.0805, -0.0288, 0.0113, -0.0559, -0.0606, 0.0595, -0.2397, -0.2024, 0.0014, 0.0393, -0.164, -0.1078, -0.1207, 1.0195, 0.9632, 0.9067, 0.8762, 0.8742, 0.8648, 0.863, 0.8565, 0.8484, 0.8424, 0.8414, 0.8319, 0.8262, 0.8206, 0.8107, 0.809, 0.8064, 0.8006, 0.7979, 0.7919, 0.7896, 0.7827, 0.7825, 0.7682, 0.7646, 0.7618, 0.7602, 0.7576, 0.7569, 0.7527, 0.7511, 0.7483, 0.7015, 0.7253, 0.7088, 0.7273, 0.7358, 0.7451, 0.6575, 0.6972, 0.5435, 0.6065, 0.3931, 0.712, 0.4715, 0.6141, 0.5031, 0.3207, 0.5821, 0.6025, 0.4691, 0.0715, 0.2607, 0.3377, 0.3998, 0.2004, 0.2919, 0.3251, 0.3306, 0.1357, 0.2125, 0.2371, 0.384, 0.5303, 0.2277, 0.2151, 0.059, 0.0835, 0.0973, 0.2194, 0.1387, 0.0889, 0.0703, 0.167, 0.0311, 0.0957, 0.0435, 0.0511, -0.0015, 0.059, -0.0447, -0.186, 0.0721, -0.1151, -0.3516, 0.0319, -0.281, -0.16, 0.0212, 0.024, 0.0475, -0.2113, 1.2511, 1.2115, 1.1871, 1.174, 1.1303, 1.1284, 1.1201, 1.12, 1.1129, 1.1065, 1.0905, 1.0887, 1.0776, 1.0772, 1.0736, 1.0735, 1.0688, 1.0642, 1.0621, 1.0527, 1.0493, 1.0487, 1.0457, 1.0453, 1.0421, 1.0412, 1.0407, 1.0313, 1.0275, 1.0259, 1.0195, 1.0213, 1.0249, 0.961, 0.9626, 0.9725, 0.998, 0.886, 0.8976, 0.899, 0.9294, 0.8635, 0.9463, 0.8559, 0.4158, 0.9316, 0.6923, 0.865, 0.3625, 0.1975, 0.4472, 0.4181, 0.6415, 0.2731, 0.2552, 0.1821, 0.3761, 0.2034, 0.0695, 0.1186, -0.1728, 0.282, 0.0747, 0.133, 0.2226, 0.1267, 0.0515, 0.0529, -0.0382, 0.0615, 0.177, 0.1187, 0.0861, -0.1771, -0.0147, -0.0767, 0.1616, -0.1112, -0.0288, -0.4012, 0.035, -0.2871, -0.1136, -0.1104]}, \"token.table\": {\"Topic\": [1, 2, 3, 4, 1, 2, 3, 4, 1, 3, 4, 1, 2, 3, 4, 1, 2, 3, 4, 1, 2, 3, 4, 1, 3, 1, 2, 3, 4, 1, 2, 3, 4, 1, 2, 3, 4, 1, 2, 3, 4, 1, 3, 4, 1, 2, 3, 4, 1, 2, 3, 4, 1, 2, 3, 4, 1, 2, 3, 4, 1, 3, 1, 2, 3, 4, 1, 2, 3, 4, 1, 2, 3, 4, 1, 2, 3, 1, 2, 1, 2, 3, 1, 2, 3, 4, 1, 2, 1, 2, 3, 4, 1, 2, 3, 4, 1, 2, 3, 4, 1, 2, 3, 4, 1, 2, 3, 4, 1, 2, 1, 2, 3, 4, 1, 2, 3, 1, 2, 3, 4, 1, 2, 3, 4, 1, 2, 1, 2, 3, 4, 1, 4, 1, 2, 3, 4, 1, 2, 3, 4, 1, 2, 3, 4, 1, 2, 3, 4, 1, 2, 3, 4, 1, 2, 3, 4, 1, 4, 1, 2, 3, 4, 1, 2, 3, 4, 1, 2, 3, 4, 1, 2, 3, 4, 1, 4, 1, 3, 1, 2, 3, 4, 1, 2, 3, 4, 1, 2, 3, 4, 1, 1, 2, 3, 4, 1, 2, 3, 4, 1, 2, 1, 2, 3, 4, 1, 2, 3, 4, 1, 2, 3, 4, 2, 4, 1, 2, 3, 4, 1, 2, 3, 4, 1, 2, 3, 4, 1, 2, 1, 2, 3, 4, 1, 2, 4, 1, 2, 3, 4, 1, 2, 3, 4, 1, 3, 4, 1, 2, 3, 4, 1, 2, 3, 1, 2, 3, 4, 1, 2, 3, 4, 1, 2, 3, 4, 1, 2, 4, 1, 2, 3, 4, 1, 2, 3, 4, 1, 2, 3, 4, 1, 2, 3, 4, 1, 2, 3, 4, 1, 2, 3, 4, 1, 2, 3, 4, 1, 2, 1, 2, 3, 4, 1, 2, 3, 4, 1, 2, 3, 4, 1, 2, 3, 4, 1, 2, 3, 1, 2, 3, 4, 1, 2, 3, 4, 1, 2, 3, 4, 1, 2, 3, 4, 1, 2, 3, 4, 1, 2, 3, 4, 1, 2, 3, 4, 1, 2, 3, 4, 1, 2, 3, 1, 2, 3, 4, 1, 2, 3, 4, 1, 2, 3, 4, 1, 2, 3, 4, 1, 2, 3, 4, 1, 2, 3, 4, 1, 2, 3, 4, 1, 2, 3, 4, 1, 2, 3, 4, 1, 2, 3, 4, 1, 2, 3, 4, 1, 2, 3, 4, 1, 2, 3, 4, 1, 2, 3, 4, 1, 2, 3, 4, 1, 2, 3, 4, 1, 2, 3, 4, 1, 2, 3, 4, 1, 2, 3, 4, 1, 2, 3, 4, 1, 2, 3, 4, 1, 3, 4, 1, 2, 3, 4, 1, 2, 3, 4, 1, 2, 3, 4, 1, 2, 3, 4, 1, 2, 3, 4, 1, 2, 3, 4, 1, 2, 3, 4, 1, 2, 1, 2, 3, 4, 1, 2, 3, 4, 1, 2, 3, 4, 1, 2, 3, 4, 1, 2, 3, 4, 1, 2, 3, 4, 1, 2, 3, 4, 1, 2, 3, 4, 1, 2, 3, 4, 1, 2, 3, 4, 1, 2, 3, 4, 1, 2, 3, 4, 1, 2, 3, 4, 1, 2, 3, 4, 1, 2, 3, 4, 1, 1, 3, 1, 2, 3, 4, 1, 2, 3, 4, 1, 3, 4, 1, 2, 3, 4, 1, 4, 1, 2, 3, 4, 1, 2, 3, 4, 1, 4, 1, 2, 3, 4, 1, 2, 3, 4, 1, 3, 4, 1, 4, 1, 1, 2, 3, 4, 1, 2, 3, 4, 1, 2, 3, 4, 1, 2, 1, 2, 3, 4, 1, 4, 1, 2, 3, 4, 1, 2, 3, 4, 1, 2, 3, 4, 1, 2, 3, 4, 1, 2, 3, 4, 1, 2, 3, 4, 1, 2, 3, 4, 1, 2, 3, 4, 1, 2, 3, 4, 1, 2, 3, 4, 1, 2, 3, 4, 1, 2, 3, 4, 1, 2, 3, 4, 1, 2, 3, 4, 1, 2, 3, 4, 1, 2, 3, 4, 1, 2, 3, 4, 1, 2, 3, 4, 1, 2, 3, 4, 1, 2, 3, 4, 1, 2, 3, 4, 1, 2, 3, 4, 1, 4, 1, 2, 3, 4, 1, 2, 3, 4, 1, 2, 3, 4, 1, 2, 3, 4, 1, 2, 3, 4, 1, 2, 3, 4, 1, 2, 3, 4, 1, 2, 3, 4, 1, 2, 3, 4, 1, 3, 4, 1, 2, 3, 4, 1, 2, 3, 4, 1, 4, 1, 2, 3, 4, 1, 2, 3, 4, 1, 2, 3, 4, 1, 2, 3, 1, 2, 3, 4, 1, 2, 3, 1, 2, 3, 4, 1, 2, 3, 4, 1, 2, 3, 4, 1, 2, 3, 4, 1, 2, 3, 4, 1, 2, 3, 4, 1, 2, 3, 4, 1, 1, 2, 3, 4, 1, 2, 3, 4, 1, 2, 3, 4, 1, 2, 3, 4, 1, 2, 3, 4, 1, 2, 3, 4, 1, 2, 3, 4, 1, 2, 4, 1, 2, 3, 4, 1, 2, 3, 4, 1, 2, 3, 4, 1, 2, 3, 4, 1, 2, 3, 4, 1, 2, 3, 4, 1, 2, 3, 4, 1, 2, 3, 4, 1, 2, 3, 4, 1, 2, 3, 4, 1, 2, 3, 4, 1, 2, 3, 4, 1, 2, 3, 4, 1, 2, 3, 4, 1, 2, 3, 4, 1, 2, 4, 1, 2, 3, 4, 1, 2, 3, 4, 1, 2, 3, 4, 1, 2, 3, 4, 1, 2, 3, 4, 1, 2, 3, 4, 1, 2, 3, 4, 1, 2, 3, 4, 1, 2, 3, 4, 1, 2, 3, 4, 1, 2, 3, 4, 1, 4, 1, 2, 3, 4, 1, 2, 3, 4, 1, 2, 3, 4, 1, 2, 3, 4, 1, 2, 3, 4, 1, 2, 3, 4, 1, 2, 3, 4, 1, 2, 3, 4, 1, 3, 4, 1, 2, 3, 4, 1, 2, 3, 4, 1, 2, 3, 4, 1, 2, 3, 4, 1, 2, 4, 1, 2, 3, 4, 1, 2, 3, 4], \"Freq\": [0.1969464624700515, 0.3282441041167525, 0.0656488208233505, 0.393892924940103, 0.2888064144848969, 0.16201335446713727, 0.20427770780639048, 0.3451588856039012, 0.7254539442746302, 0.1036362777535186, 0.1036362777535186, 0.2039554110416056, 0.2039554110416056, 0.2039554110416056, 0.4079108220832112, 0.5875234226841662, 0.17818333310913237, 0.1252099097523633, 0.11076261247324445, 0.6030548903820625, 0.19510599394713787, 0.1359829654783082, 0.06503533131571262, 0.7500263332605713, 0.18750658331514283, 0.4162665469898346, 0.25118587420466965, 0.17824325134610838, 0.1546602980910848, 0.4400109350794012, 0.24333134843547607, 0.1897878491065369, 0.12670194395659864, 0.26291566146129747, 0.6385094635488652, 0.03755938020875678, 0.03755938020875678, 0.4035889764904587, 0.2931029162597374, 0.18547918919561507, 0.11735565983055893, 0.7915991624880366, 0.1319331937480061, 0.1319331937480061, 0.4754320884308504, 0.18729142877578953, 0.2143046156184515, 0.12245978035340085, 0.42022487038449063, 0.2528228756337795, 0.16740199475071113, 0.15994916621728905, 0.17308655350404992, 0.25962983025607483, 0.4327163837601248, 0.08654327675202496, 0.7180556386541854, 0.07978395985046505, 0.1595679197009301, 0.07978395985046505, 0.37924085000048025, 0.37924085000048025, 0.2777023461930854, 0.3230415047552218, 0.286203438423486, 0.11618159381547451, 0.19636596297159825, 0.261821283962131, 0.3927319259431965, 0.19636596297159825, 0.41378673764488605, 0.23018967308663232, 0.18276505369167556, 0.17305826024826335, 0.20350852064704097, 0.6105255619411228, 0.20350852064704097, 0.20296420716808736, 0.608892621504262, 0.2805443421020552, 0.2805443421020552, 0.2805443421020552, 0.23592546630193734, 0.058981366575484334, 0.23592546630193734, 0.4128695660283903, 0.25020889524776757, 0.5004177904955351, 0.3213263705673532, 0.5462548299645004, 0.06426527411347063, 0.09639791117020595, 0.4382103732949211, 0.2654405457909399, 0.16486767323144982, 0.13146311198847632, 0.320423678866042, 0.2563389430928336, 0.3845084146392504, 0.0640847357732084, 0.24422013820507896, 0.08140671273502632, 0.24422013820507896, 0.4070335636751316, 0.431910234907443, 0.16015463408480687, 0.20363553021642866, 0.20436021181862235, 0.3478005423227637, 0.6956010846455274, 0.2575956239581709, 0.6010564559023988, 0.17173041597211394, 0.08586520798605697, 0.2786549774150112, 0.2786549774150112, 0.2786549774150112, 0.18475593132741794, 0.18475593132741794, 0.3695118626548359, 0.27713389699112695, 0.3430971521843521, 0.060042001632261616, 0.24874543533365526, 0.35167458098896087, 0.3299650031033936, 0.6599300062067872, 0.5628829669971818, 0.20525709982223853, 0.1385170612297315, 0.09381382783286361, 0.7572245433513661, 0.18930613583784153, 0.30275673549421106, 0.3847784805683399, 0.2098791712190945, 0.1025271813426611, 0.36998905868841536, 0.3118479208945215, 0.2136875583853501, 0.10495607991365252, 0.26400512410543825, 0.25172581600751087, 0.1473516971751283, 0.3376809726930024, 0.23430810430199794, 0.42601473509454174, 0.20387848036667355, 0.1338903453154274, 0.5044138562082694, 0.23930679612549477, 0.17200175971519935, 0.08413129551286926, 0.7597698122397998, 0.09497122652997497, 0.09497122652997497, 0.09497122652997497, 0.761772236306328, 0.190443059076582, 0.14891614740178488, 0.5658813601267826, 0.11913291792142791, 0.14891614740178488, 0.20820528887857942, 0.5205132221964486, 0.12492317332714765, 0.1457437022150056, 0.30413893387686197, 0.21289725371380339, 0.34975977395839125, 0.12165557355074479, 0.24439916296730504, 0.1832993722254788, 0.4887983259346101, 0.12219958148365252, 0.7193524085795507, 0.2397841361931836, 0.7517035065963349, 0.18792587664908372, 0.3741768665764844, 0.43140391675877027, 0.14306762545571464, 0.048422888615780334, 0.3711057262100157, 0.2664816167578797, 0.14691120595543844, 0.21544546580561816, 0.4567074492651044, 0.26173877209345164, 0.16892834015215122, 0.11284146041784013, 0.6353331776355889, 0.25389124535963925, 0.25389124535963925, 0.3351364438747238, 0.15233474721578355, 0.353701873729089, 0.3075668467209469, 0.1642187270885056, 0.17410480430453604, 0.20119154802993686, 0.6035746440898105, 0.5424066395820704, 0.21212932934150275, 0.13962943197162206, 0.10472207397871655, 0.20417897624770248, 0.33411105204169494, 0.1299320757939925, 0.33411105204169494, 0.2324325098474585, 0.4838391021314442, 0.1612797007104814, 0.12807505644655875, 0.3931326229173498, 0.3931326229173498, 0.23231044170089907, 0.05807761042522477, 0.29038805212612384, 0.4065432729765734, 0.203939072048774, 0.101969536024387, 0.305908608073161, 0.407878144097548, 0.2073125870663266, 0.5528335655102042, 0.06910419568877553, 0.13820839137755106, 0.16777476948763584, 0.6710990779505434, 0.29484199456933885, 0.5723403423993049, 0.06937458695749149, 0.06937458695749149, 0.16899927471092815, 0.6759970988437126, 0.16899927471092815, 0.41401160130995807, 0.22854397644567048, 0.14239127328290466, 0.2153817579069146, 0.5995918953638331, 0.12741327776481454, 0.08993878430457496, 0.18737246730119783, 0.7830090048974512, 0.15660180097949022, 0.15660180097949022, 0.31630804385265787, 0.5440498354265716, 0.0759139305246379, 0.06326160877053158, 0.22507923936518617, 0.22507923936518617, 0.45015847873037235, 0.5033895288589155, 0.21241755596753603, 0.14348204723844885, 0.14027574450686342, 0.44905917389925126, 0.21086866044255012, 0.16252999741751373, 0.1772417644251335, 0.39105172811137384, 0.35078324352324614, 0.1306488611081478, 0.12796429546893928, 0.28950645872024316, 0.28950645872024316, 0.28950645872024316, 0.3351131987211754, 0.4027152849185307, 0.14317156112511312, 0.11902795891177197, 0.19934009028460345, 0.08543146726483004, 0.35596444693679186, 0.35596444693679186, 0.34786944419758203, 0.31612796593541054, 0.18487266393237714, 0.1509864911930319, 0.28645796651901156, 0.25314890064470785, 0.29311977969387226, 0.16654532937151834, 0.5547179167081984, 0.1866101747451543, 0.14826561829067053, 0.10992106183618679, 0.2808213439407549, 0.18235152203945126, 0.34646789187495736, 0.18599855248024028, 0.3527211625395782, 0.3360519204535868, 0.16269180275927614, 0.1480228697236037, 0.25242831166328106, 0.5048566233265621, 0.4014590702603541, 0.34346046868775215, 0.14046536318364533, 0.11509097499563199, 0.2306680272271548, 0.2306680272271548, 0.4613360544543096, 0.2306680272271548, 0.2702710679992623, 0.22869090369168346, 0.40540660199889345, 0.09355536969205233, 0.35764980493499327, 0.32972697963275954, 0.19783618777965573, 0.11466181453895963, 0.7601635947961923, 0.15203271895923845, 0.15203271895923845, 0.2861717423548905, 0.25040027456052916, 0.3577146779436131, 0.10731440338308393, 0.20610398201105623, 0.5667859505304046, 0.15457798650829216, 0.05152599550276406, 0.31822431196199225, 0.36989172792630093, 0.13386557772570892, 0.17848743696761188, 0.13872118131156783, 0.13872118131156783, 0.27744236262313565, 0.4161635439347035, 0.2645440415788736, 0.07558401187967817, 0.22675203563903454, 0.41571206533822996, 0.27893734056361885, 0.5578746811272377, 0.09297911352120629, 0.09297911352120629, 0.2548777282126411, 0.5947146991628293, 0.08495924273754703, 0.08495924273754703, 0.26005077010223226, 0.08126586565694757, 0.27630394323362173, 0.39007615515334837, 0.27819439450954325, 0.27819439450954325, 0.27819439450954325, 0.3692403669947777, 0.36392956686389144, 0.13025436110489508, 0.1366832244212311, 0.25706844925396044, 0.5141368985079209, 0.08568948308465349, 0.08568948308465349, 0.536322757228744, 0.2475335802594203, 0.14113756769177474, 0.07599715183403255, 0.40234204784882077, 0.3862053346998039, 0.11833589642612376, 0.09251715538769677, 0.46818228205979323, 0.28242779825877257, 0.1482999012362372, 0.10122860152644178, 0.4694394608148601, 0.22488436231561246, 0.12280919076810043, 0.1834163238744357, 0.1505735807848606, 0.3011471615697212, 0.0752867903924303, 0.4517207423545819, 0.22177056267404252, 0.11088528133702126, 0.22177056267404252, 0.44354112534808504, 0.37648538496203915, 0.18824269248101957, 0.37648538496203915, 0.18824269248101957, 0.2814654113737056, 0.0804186889639159, 0.2814654113737056, 0.38198877257860053, 0.25756503828342747, 0.06439125957085687, 0.19317377871257058, 0.45073881699599805, 0.5310007946055767, 0.20730852940080732, 0.15093515737076324, 0.1109282481881513, 0.513410448658496, 0.24585852470970235, 0.13883775513018487, 0.10268208973169922, 0.3632161484592995, 0.18233161237399098, 0.2763915711383514, 0.17799038350794358, 0.3473888954763598, 0.3643939463038739, 0.18543603045241583, 0.10284006929020442, 0.15010587397936562, 0.6004234959174625, 0.15010587397936562, 0.15010587397936562, 0.36305165637940146, 0.3440635990373826, 0.1663353823160856, 0.12684022304468628, 0.29066355025218177, 0.42058134922853574, 0.19377570016812118, 0.09468585349124102, 0.19979125288899832, 0.359624255200197, 0.39958250577799664, 0.07991650115559933, 0.2999267559332179, 0.04998779265553631, 0.19995117062214524, 0.39990234124429047, 0.21568980709979602, 0.10270943195228381, 0.29785735266162305, 0.3697539550282217, 0.2035515773599337, 0.2035515773599337, 0.4071031547198674, 0.2187059277898932, 0.0729019759299644, 0.2916079037198576, 0.4374118555797864, 0.2993552402175036, 0.05987104804350072, 0.23948419217400288, 0.419097336304505, 0.22512246242639222, 0.5021962623357981, 0.1385368999547029, 0.1385368999547029, 0.40603183053522235, 0.2293436276222005, 0.2387045920149434, 0.12637301930202885, 0.20938823475016113, 0.3489803912502686, 0.3489803912502686, 0.10469411737508057, 0.28660717375477335, 0.3039369098422713, 0.1866279270961315, 0.22262045589324256, 0.5504853216102923, 0.17146264115730414, 0.16501667720402202, 0.11280436918243694, 0.19955837939536356, 0.5986751381860907, 0.39935364199665396, 0.24982820859790678, 0.18853206819842036, 0.16206328029864212, 0.28555545624689666, 0.10383834772614424, 0.2595958693153606, 0.36343421704150486, 0.7214832412894714, 0.1442966482578943, 0.07214832412894714, 0.07214832412894714, 0.3634500334788908, 0.11773733478893646, 0.2354746695778729, 0.2815458005822394, 0.2952454240355621, 0.0892602444758676, 0.2677807334276028, 0.3501748052514806, 0.5617043544768828, 0.22183589746989849, 0.12129828252823051, 0.09517249859907317, 0.2725312318450047, 0.05450624636900094, 0.2943337303926051, 0.3924449738568068, 0.1915460380361775, 0.04788650950904438, 0.33520556656331063, 0.383092076072355, 0.31653806010565144, 0.0703417911345892, 0.31653806010565144, 0.29309079639412167, 0.2726431872945556, 0.09088106243151854, 0.3029368747717285, 0.36352424972607417, 0.19515614500791725, 0.3252602416798621, 0.06505204833597242, 0.3903122900158345, 0.3689414618861815, 0.18447073094309074, 0.3689414618861815, 0.18447073094309074, 0.4101826268370656, 0.28517371852452267, 0.18518485468066986, 0.11953006645808523, 0.4169260880464374, 0.25325675596209213, 0.1899425669715691, 0.1399803498089795, 0.2764043236874981, 0.2211234589499985, 0.3869660531624973, 0.11056172947499925, 0.7434011472728396, 0.7471149623519607, 0.18677874058799018, 0.45362492335644117, 0.2764951913791641, 0.1462708936537096, 0.12405253006074105, 0.17316524725356439, 0.6060783653874754, 0.17316524725356439, 0.08658262362678219, 0.77074428200188, 0.19268607050047, 0.19268607050047, 0.7304071926811506, 0.07304071926811506, 0.07304071926811506, 0.14608143853623012, 0.7193711479138487, 0.23979038263794958, 0.5790364907878983, 0.16612832652367082, 0.10167605046573215, 0.15303107256537313, 0.6785985135522877, 0.1615710746553066, 0.09694264479318396, 0.06462842986212264, 0.7528991491322615, 0.18822478728306538, 0.7766265594431849, 0.03883132797215925, 0.0776626559443185, 0.11649398391647775, 0.3841886899081829, 0.2991263846645823, 0.17632120225991385, 0.13970497814843014, 0.709743340973957, 0.11829055682899284, 0.11829055682899284, 0.6458238316064359, 0.16145595790160897, 0.7121398500692063, 0.5927235117273487, 0.1676389730137956, 0.10178080504409019, 0.13770344211847496, 0.19695075341419363, 0.34466381847483885, 0.34466381847483885, 0.09847537670709682, 0.4434961760987455, 0.2914282417917258, 0.18002471331610967, 0.08514109970950128, 0.2604956094335096, 0.5209912188670192, 0.3077306174053455, 0.2737371189710341, 0.23079796305400915, 0.18875337288525554, 0.7514489950491374, 0.18786224876228436, 0.2080958635078346, 0.3121437952617519, 0.4161917270156692, 0.1040479317539173, 0.4022692258843651, 0.2895411894561169, 0.14129610045458504, 0.16677572512672334, 0.2557748105003485, 0.342738246070467, 0.3171607650204321, 0.08696343557011849, 0.4650643242916853, 0.2853803808153524, 0.12315932698633564, 0.12683572480682326, 0.26026524011429664, 0.3217824786867668, 0.14669495351896722, 0.2697294306639074, 0.10624820060734871, 0.3187446018220461, 0.05312410030367436, 0.47811690273306917, 0.4917405132780257, 0.22990465555855746, 0.12863712870538335, 0.14870817006367013, 0.5167428633633121, 0.2315920510467051, 0.12447452850690147, 0.12745001524411823, 0.191654207793606, 0.095827103896803, 0.287481311690409, 0.47913551948401506, 0.21933230642011906, 0.3566242844846211, 0.29634975752947385, 0.12724622357197746, 0.2812020108823203, 0.14060100544116014, 0.4218030163234804, 0.14060100544116014, 0.2920207514108507, 0.19468050094056713, 0.3406908766459925, 0.14601037570542535, 0.4168995710866985, 0.147141025089423, 0.34332905854198703, 0.098094016726282, 0.33038974103251834, 0.13911146990842876, 0.3999454759867327, 0.13911146990842876, 0.22685638354673998, 0.22685638354673998, 0.45371276709347996, 0.11342819177336999, 0.18759789589819828, 0.6096931616691444, 0.09379894794909914, 0.09379894794909914, 0.3284262410790821, 0.2870776136050969, 0.23745926063631476, 0.1470829748717472, 0.7116483069094172, 0.07907203410104635, 0.07907203410104635, 0.07907203410104635, 0.2829042611812538, 0.1157335613923311, 0.27004497658210586, 0.33434139957784537, 0.2397817514031539, 0.2397817514031539, 0.2397817514031539, 0.4795635028063078, 0.22956428864457623, 0.07652142954819208, 0.22956428864457623, 0.3826071477409604, 0.33956801103810924, 0.3920109471057709, 0.1324184135708457, 0.13635163377592033, 0.6397462207022611, 0.15993655517556526, 0.2688788396499522, 0.36240191431080515, 0.25251230158430293, 0.11456576645954485, 0.2260007856538668, 0.47415851107772056, 0.10635331089593732, 0.19498106997588507, 0.19005143098812002, 0.28055211241103434, 0.31675238498020003, 0.2081515672727029, 0.3721967545175775, 0.18609837725878875, 0.3721967545175775, 0.18609837725878875, 0.40158581950947253, 0.2953623582120098, 0.1536037102215109, 0.14940062362340986, 0.2042436318672905, 0.27232484248972066, 0.34040605311215083, 0.2042436318672905, 0.4020634993509024, 0.31331975399867623, 0.18156245860327913, 0.10277974589262934, 0.33473606336375067, 0.08079836012228464, 0.21930983461762976, 0.36936393198758694, 0.24222207622392572, 0.12111103811196286, 0.24222207622392572, 0.3633331143358886, 0.23882806648379765, 0.23882806648379765, 0.4776561329675953, 0.28837743068834065, 0.38181816241975836, 0.17399308667229493, 0.15627156858530195, 0.24962882117496182, 0.5568642933902994, 0.07680886805383441, 0.09601108506729301, 0.7199416725066216, 0.23998055750220718, 0.18751415326050755, 0.18751415326050755, 0.3750283065210151, 0.18751415326050755, 0.5057383094404603, 0.18629580196073292, 0.12164020010377267, 0.1868437307900292, 0.2800523183186894, 0.4266328934386842, 0.16683967899836813, 0.12751318323446706, 0.36658028930621966, 0.18329014465310983, 0.36658028930621966, 0.5198958647325287, 0.2339836853026539, 0.12646115628629076, 0.11974099822276806, 0.7620609499553355, 0.19051523748883387, 0.19051523748883387, 0.6418119028720772, 0.17356040190343497, 0.09401188436436062, 0.09039604265803905, 0.29187250097809153, 0.4130271240256012, 0.17071787793058182, 0.12390813720768036, 0.35175811943476487, 0.33787863753351643, 0.1396622866313123, 0.17045738709970726, 0.35732096974735744, 0.3926604063157774, 0.1060183097052599, 0.14332104830525874, 0.42594652995446686, 0.14309141240657872, 0.27619970301734964, 0.1564022414676558, 0.38780317887473265, 0.264767644674973, 0.21289972339468216, 0.13449472611052157, 0.21531675534060082, 0.5598235638855621, 0.08612670213624032, 0.1291900532043605, 0.717923468499775, 0.27875035451544766, 0.31348376722170196, 0.25549662905956555, 0.15217944380621587, 0.3015643441752241, 0.3610125123818095, 0.21401340554370743, 0.1232198395554679, 0.22366609380229596, 0.6709982814068879, 0.11183304690114798, 0.11183304690114798, 0.2177020934911704, 0.5986807571007187, 0.1088510467455852, 0.1088510467455852, 0.5317552273778731, 0.2512689535961378, 0.12388143758693305, 0.09349542459391175, 0.4761997915748578, 0.23984421736828918, 0.17181567571473808, 0.11163658117505823, 0.4019319611811179, 0.2483482036566257, 0.21812161307999692, 0.13070958087190826, 0.16673743538473146, 0.3334748707694629, 0.3334748707694629, 0.18972786570762867, 0.18972786570762867, 0.37945573141525735, 0.18972786570762867, 0.22540867639700057, 0.3005449018626674, 0.3756811273283343, 0.1502724509313337, 0.36780920342124207, 0.3174774176899142, 0.18738910995355912, 0.1269909670759657, 0.3927911964102947, 0.237245882631818, 0.21682074041848268, 0.1539741489928355, 0.3479136784872964, 0.4285114418434268, 0.10477709236296957, 0.11821005292232464, 0.4498806539277061, 0.24551626384891867, 0.13531294087127904, 0.169489920782066, 0.19239143714993948, 0.5771743114498185, 0.09619571857496974, 0.19239143714993948, 0.46550692122688303, 0.23482369469767797, 0.18099760850753013, 0.11889058598043646, 0.3423381304688537, 0.3195413475143815, 0.177737629814529, 0.15996386683307612, 0.6483621558447282, 0.17455904195819605, 0.09974802397611203, 0.07481101798208402, 0.23439057995681015, 0.23439057995681015, 0.4687811599136203, 0.23439057995681015, 0.334939729688304, 0.223293153125536, 0.446586306251072, 0.111646576562768, 0.48656185196837476, 0.26668181360154114, 0.16601384422877397, 0.08035776502562995, 0.5339718962858804, 0.21358875851435216, 0.1199094784641977, 0.13115099207021624, 0.7284971957823404, 0.13245403559678917, 0.06622701779839459, 0.06622701779839459, 0.29565346637520695, 0.29565346637520695, 0.29565346637520695, 0.4075546371721841, 0.24869461047866775, 0.18271440769861305, 0.1613977268004415, 0.33326483127234124, 0.19250701433743936, 0.2566760191165858, 0.21734662909065733, 0.2260051818630956, 0.2260051818630956, 0.4520103637261912, 0.2260051818630956, 0.30323900223483585, 0.21134839549700682, 0.3124280629086188, 0.1745921528018752, 0.3546864229847154, 0.3577007551913844, 0.1497118329312255, 0.13815689280566112, 0.36544847584788853, 0.27408635688591637, 0.21068419674420297, 0.14964485002391986, 0.32294421523697, 0.35201448011100167, 0.22357676439482538, 0.10095310165345543, 0.435880179230015, 0.26032173850590845, 0.19746356262277445, 0.1066684196804698, 0.48278536521331616, 0.2535583615709194, 0.13574336528544168, 0.1280597785711714, 0.3591813619517291, 0.3467957977464971, 0.15720139183563742, 0.13624120625755243, 0.23271792620359824, 0.5352512302682759, 0.1582481898184468, 0.06981537786107947, 0.7173736882650821, 0.23912456275502736, 0.2775557341576512, 0.18503715610510083, 0.37007431221020165, 0.09251857805255041, 0.31294476335345933, 0.2403415782554568, 0.2403415782554568, 0.2065435438132832, 0.20427181630871571, 0.06809060543623857, 0.37449832989931214, 0.34045302718119286, 0.33977337206890756, 0.28732513342739835, 0.24171796939130336, 0.13226077570467543, 0.19960060115749437, 0.5588816832409842, 0.11976036069449661, 0.07984024046299774, 0.3841512509303687, 0.3283249540325741, 0.176322660498975, 0.11109985818273972, 0.27968768360537355, 0.27968768360537355, 0.4195315254080603, 0.13984384180268677, 0.20143923044689918, 0.20143923044689918, 0.20143923044689918, 0.40287846089379836, 0.1999396866708723, 0.1999396866708723, 0.3998793733417446, 0.20549688453197995, 0.6164906535959398, 0.10274844226598998, 0.10274844226598998, 0.25933137642977055, 0.06483284410744264, 0.25933137642977055, 0.45382990875209844, 0.25558467789613404, 0.25558467789613404, 0.10223387115845362, 0.46005242021304127, 0.6979011949965342, 0.08723764937456678, 0.1308564740618502, 0.08723764937456678, 0.2988333439453374, 0.2988333439453374, 0.2988333439453374, 0.21356637837684492, 0.6406991351305347, 0.05339159459421123, 0.10678318918842246, 0.301298377930481, 0.602596755860962, 0.07532459448262024, 0.07532459448262024], \"Term\": [\"aacr\", \"aacr\", \"aacr\", \"aacr\", \"ac\", \"ac\", \"ac\", \"ac\", \"acp\", \"acp\", \"acp\", \"acrgj\", \"acrgj\", \"acrgj\", \"acrgj\", \"agreement\", \"agreement\", \"agreement\", \"agreement\", \"ai\", \"ai\", \"ai\", \"ai\", \"ajmera\", \"ajmera\", \"algorithm\", \"algorithm\", \"algorithm\", \"algorithm\", \"also\", \"also\", \"also\", \"also\", \"ampl\", \"ampl\", \"ampl\", \"ampl\", \"analysis\", \"analysis\", \"analysis\", \"analysis\", \"annot\", \"annot\", \"annot\", \"annotation\", \"annotation\", \"annotation\", \"annotation\", \"approach\", \"approach\", \"approach\", \"approach\", \"artaxuriketak\", \"artaxuriketak\", \"artaxuriketak\", \"artaxuriketak\", \"asp\", \"asp\", \"asp\", \"asp\", \"atti\", \"atti\", \"attribute\", \"attribute\", \"attribute\", \"attribute\", \"audacity\", \"audacity\", \"audacity\", \"audacity\", \"audio\", \"audio\", \"audio\", \"audio\", \"audioscrobbler\", \"audioscrobbler\", \"audioscrobbler\", \"autotags\", \"autotags\", \"ayush\", \"ayush\", \"ayush\", \"bac\", \"bac\", \"bac\", \"bac\", \"balalaika\", \"balalaika\", \"bark\", \"bark\", \"bark\", \"bark\", \"based\", \"based\", \"based\", \"based\", \"basque\", \"basque\", \"basque\", \"basque\", \"baus\", \"baus\", \"baus\", \"baus\", \"beat\", \"beat\", \"beat\", \"beat\", \"beatbox\", \"beatbox\", \"beatboxing\", \"beatboxing\", \"beatboxing\", \"beatboxing\", \"bizkaia\", \"bizkaia\", \"bizkaia\", \"bluetooth\", \"bluetooth\", \"bluetooth\", \"bluetooth\", \"bp\", \"bp\", \"bp\", \"bp\", \"changer\", \"changer\", \"chord\", \"chord\", \"chord\", \"chord\", \"clarisse\", \"clarisse\", \"class\", \"class\", \"class\", \"class\", \"classification\", \"classification\", \"classification\", \"classification\", \"cloud\", \"cloud\", \"cloud\", \"cloud\", \"complexity\", \"complexity\", \"complexity\", \"complexity\", \"conference\", \"conference\", \"conference\", \"conference\", \"conp\", \"conp\", \"conp\", \"conp\", \"conpo\", \"conpo\", \"container\", \"container\", \"container\", \"container\", \"contributor\", \"contributor\", \"contributor\", \"contributor\", \"cp\", \"cp\", \"cp\", \"cp\", \"curator\", \"curator\", \"curator\", \"curator\", \"cxprecision\", \"cxprecision\", \"dae\", \"dae\", \"dance\", \"dance\", \"dance\", \"dance\", \"data\", \"data\", \"data\", \"data\", \"dataset\", \"dataset\", \"dataset\", \"dataset\", \"dea\", \"di\", \"di\", \"di\", \"di\", \"different\", \"different\", \"different\", \"different\", \"dilruba\", \"dilruba\", \"dimension\", \"dimension\", \"dimension\", \"dimension\", \"disc\", \"disc\", \"disc\", \"disc\", \"diversity\", \"diversity\", \"diversity\", \"diversity\", \"ead\", \"ead\", \"eaus\", \"eaus\", \"eaus\", \"eaus\", \"efi\", \"efi\", \"efi\", \"efi\", \"eh\", \"eh\", \"eh\", \"eh\", \"eo\", \"eo\", \"erb\", \"erb\", \"erb\", \"erb\", \"erhu\", \"erhu\", \"erhu\", \"error\", \"error\", \"error\", \"error\", \"essentia\", \"essentia\", \"essentia\", \"essentia\", \"estim\", \"estim\", \"estim\", \"ethnic\", \"ethnic\", \"ethnic\", \"ethnic\", \"euskomedia\", \"euskomedia\", \"euskomedia\", \"evaluation\", \"evaluation\", \"evaluation\", \"evaluation\", \"example\", \"example\", \"example\", \"example\", \"experiment\", \"experiment\", \"experiment\", \"experiment\", \"e\\u03c6\", \"e\\u03c6\", \"e\\u03c6\", \"feature\", \"feature\", \"feature\", \"feature\", \"fh\", \"fh\", \"fh\", \"fh\", \"figure\", \"figure\", \"figure\", \"figure\", \"filtering\", \"filtering\", \"filtering\", \"filtering\", \"finally\", \"finally\", \"finally\", \"finally\", \"fingerprint\", \"fingerprint\", \"fingerprint\", \"fingerprint\", \"first\", \"first\", \"first\", \"first\", \"framus\", \"framus\", \"frequency\", \"frequency\", \"frequency\", \"frequency\", \"gargi\", \"gargi\", \"gargi\", \"gargi\", \"genius\", \"genius\", \"genius\", \"genius\", \"genre\", \"genre\", \"genre\", \"genre\", \"hb\", \"hb\", \"hb\", \"hear\", \"hear\", \"hear\", \"hear\", \"hihat\", \"hihat\", \"hihat\", \"hihat\", \"however\", \"however\", \"however\", \"however\", \"iea\", \"iea\", \"iea\", \"iea\", \"iep\", \"iep\", \"iep\", \"iep\", \"igor\", \"igor\", \"igor\", \"igor\", \"igr\", \"igr\", \"igr\", \"igr\", \"ik\", \"ik\", \"ik\", \"ik\", \"implicated\", \"implicated\", \"implicated\", \"information\", \"information\", \"information\", \"information\", \"inpaintnet\", \"inpaintnet\", \"inpaintnet\", \"inpaintnet\", \"instance\", \"instance\", \"instance\", \"instance\", \"instrument\", \"instrument\", \"instrument\", \"instrument\", \"international\", \"international\", \"international\", \"international\", \"ismir\", \"ismir\", \"ismir\", \"ismir\", \"issued\", \"issued\", \"issued\", \"issued\", \"iyd\", \"iyd\", \"iyd\", \"iyd\", \"jectives\", \"jectives\", \"jectives\", \"jectives\", \"jh\", \"jh\", \"jh\", \"jh\", \"jhq\", \"jhq\", \"jhq\", \"jhq\", \"journal\", \"journal\", \"journal\", \"journal\", \"key\", \"key\", \"key\", \"key\", \"label\", \"label\", \"label\", \"label\", \"learning\", \"learning\", \"learning\", \"learning\", \"lease\", \"lease\", \"lease\", \"lease\", \"level\", \"level\", \"level\", \"level\", \"list\", \"list\", \"list\", \"list\", \"listens\", \"listens\", \"listens\", \"listens\", \"lna\", \"lna\", \"lna\", \"lna\", \"lo\", \"lo\", \"lo\", \"lo\", \"lo_\", \"lo_\", \"lo_\", \"lomo\", \"lomo\", \"lomo\", \"lomo\", \"loq\", \"loq\", \"loq\", \"loq\", \"lpc\", \"lpc\", \"lpc\", \"lpc\", \"lyric\", \"lyric\", \"lyric\", \"lyric\", \"manager\", \"manager\", \"manager\", \"manager\", \"matrix\", \"matrix\", \"matrix\", \"matrix\", \"measure\", \"measure\", \"measure\", \"measure\", \"melodica\", \"melodica\", \"method\", \"method\", \"method\", \"method\", \"mg\", \"mg\", \"mg\", \"mg\", \"mlm\", \"mlm\", \"mlm\", \"mlm\", \"mn\", \"mn\", \"mn\", \"mn\", \"mo\", \"mo\", \"mo\", \"mo\", \"model\", \"model\", \"model\", \"model\", \"moi\", \"moi\", \"moi\", \"moi\", \"mol\", \"mol\", \"mol\", \"mol\", \"moq\", \"moq\", \"moq\", \"moq\", \"mozj\", \"mozj\", \"mozj\", \"mozj\", \"multiplicity\", \"multiplicity\", \"multiplicity\", \"multiplicity\", \"municipality\", \"municipality\", \"municipality\", \"municipality\", \"music\", \"music\", \"music\", \"music\", \"musical\", \"musical\", \"musical\", \"musical\", \"nafarroa\", \"nafarroa\", \"nafarroa\", \"nafarroa\", \"nai\", \"nej\", \"nej\", \"network\", \"network\", \"network\", \"network\", \"newsgroup\", \"newsgroup\", \"newsgroup\", \"newsgroup\", \"ngt\", \"ngt\", \"ngt\", \"ngti\", \"ngti\", \"ngti\", \"ngti\", \"ngtin\", \"ngtin\", \"note\", \"note\", \"note\", \"note\", \"notewise\", \"notewise\", \"notewise\", \"notewise\", \"ntr\", \"ntr\", \"ntrj\", \"ntrj\", \"ntrj\", \"ntrj\", \"number\", \"number\", \"number\", \"number\", \"obon\", \"obon\", \"obon\", \"obp\", \"obp\", \"offran\", \"offset\", \"offset\", \"offset\", \"offset\", \"oip\", \"oip\", \"oip\", \"oip\", \"one\", \"one\", \"one\", \"one\", \"pacc\", \"pacc\", \"page\", \"page\", \"page\", \"page\", \"pai\", \"pai\", \"papa\", \"papa\", \"papa\", \"papa\", \"pattern\", \"pattern\", \"pattern\", \"pattern\", \"peer\", \"peer\", \"peer\", \"peer\", \"performance\", \"performance\", \"performance\", \"performance\", \"period\", \"period\", \"period\", \"period\", \"phonograph\", \"phonograph\", \"phonograph\", \"phonograph\", \"piece\", \"piece\", \"piece\", \"piece\", \"pitch\", \"pitch\", \"pitch\", \"pitch\", \"pkm\", \"pkm\", \"pkm\", \"pkm\", \"playlist\", \"playlist\", \"playlist\", \"playlist\", \"poem\", \"poem\", \"poem\", \"poem\", \"poet\", \"poet\", \"poet\", \"poet\", \"poetic\", \"poetic\", \"poetic\", \"poetic\", \"poetry\", \"poetry\", \"poetry\", \"poetry\", \"poosl\", \"poosl\", \"poosl\", \"poosl\", \"primitive\", \"primitive\", \"primitive\", \"primitive\", \"proceeding\", \"proceeding\", \"proceeding\", \"proceeding\", \"purity\", \"purity\", \"purity\", \"purity\", \"qc\", \"qc\", \"qc\", \"qc\", \"qcz\", \"qcz\", \"qcz\", \"qcz\", \"qpp\", \"qpp\", \"qpp\", \"qpp\", \"query\", \"query\", \"query\", \"query\", \"rategt\", \"rategt\", \"recommendation\", \"recommendation\", \"recommendation\", \"recommendation\", \"record\", \"record\", \"record\", \"record\", \"repeating\", \"repeating\", \"repeating\", \"repeating\", \"resourceful\", \"resourceful\", \"resourceful\", \"resourceful\", \"result\", \"result\", \"result\", \"result\", \"retention\", \"retention\", \"retention\", \"retention\", \"retrieval\", \"retrieval\", \"retrieval\", \"retrieval\", \"rg\", \"rg\", \"rg\", \"rg\", \"rgj\", \"rgj\", \"rgj\", \"rgj\", \"rgmoik\", \"rgmoik\", \"rgmoik\", \"rhythm\", \"rhythm\", \"rhythm\", \"rhythm\", \"rms\", \"rms\", \"rms\", \"rms\", \"samplesumo\", \"samplesumo\", \"schoenauer\", \"schoenauer\", \"schoenauer\", \"schoenauer\", \"score\", \"score\", \"score\", \"score\", \"search\", \"search\", \"search\", \"search\", \"sebag\", \"sebag\", \"sebag\", \"section\", \"section\", \"section\", \"section\", \"segmenta\", \"segmenta\", \"segmenta\", \"segmentation\", \"segmentation\", \"segmentation\", \"segmentation\", \"selection\", \"selection\", \"selection\", \"selection\", \"set\", \"set\", \"set\", \"set\", \"several\", \"several\", \"several\", \"several\", \"sheet\", \"sheet\", \"sheet\", \"sheet\", \"similarity\", \"similarity\", \"similarity\", \"similarity\", \"sketchinpainter\", \"sketchinpainter\", \"sketchinpainter\", \"sketchinpainter\", \"solomonoff\", \"song\", \"song\", \"song\", \"song\", \"source\", \"source\", \"source\", \"source\", \"spectr\", \"spectr\", \"spectr\", \"spectr\", \"sql\", \"sql\", \"sql\", \"sql\", \"state\", \"state\", \"state\", \"state\", \"structure\", \"structure\", \"structure\", \"structure\", \"study\", \"study\", \"study\", \"study\", \"stylus\", \"stylus\", \"stylus\", \"subfingerprint\", \"subfingerprint\", \"subfingerprint\", \"subfingerprint\", \"supervisor\", \"supervisor\", \"supervisor\", \"supervisor\", \"system\", \"system\", \"system\", \"system\", \"table\", \"table\", \"table\", \"table\", \"tag\", \"tag\", \"tag\", \"tag\", \"tempo\", \"tempo\", \"tempo\", \"tempo\", \"textindex\", \"textindex\", \"textindex\", \"textindex\", \"th\", \"th\", \"th\", \"th\", \"time\", \"time\", \"time\", \"time\", \"timesteps\", \"timesteps\", \"timesteps\", \"timesteps\", \"toggled\", \"toggled\", \"toggled\", \"toggled\", \"toponym\", \"toponym\", \"toponym\", \"toponym\", \"training\", \"training\", \"training\", \"training\", \"transcription\", \"transcription\", \"transcription\", \"transcription\", \"transduction\", \"transduction\", \"transduction\", \"transduction\", \"turnover\", \"turnover\", \"turnover\", \"two\", \"two\", \"two\", \"two\", \"u\", \"u\", \"u\", \"u\", \"ullas\", \"ullas\", \"ullas\", \"ullas\", \"unison\", \"unison\", \"unison\", \"unison\", \"use\", \"use\", \"use\", \"use\", \"used\", \"used\", \"used\", \"used\", \"user\", \"user\", \"user\", \"user\", \"using\", \"using\", \"using\", \"using\", \"value\", \"value\", \"value\", \"value\", \"vector\", \"vector\", \"vector\", \"vector\", \"video\", \"video\", \"video\", \"video\", \"viitaniemi\", \"viitaniemi\", \"vocalness\", \"vocalness\", \"vocalness\", \"vocalness\", \"voice\", \"voice\", \"voice\", \"voice\", \"vw\", \"vw\", \"vw\", \"vw\", \"well\", \"well\", \"well\", \"well\", \"wlpc\", \"wlpc\", \"wlpc\", \"wlpc\", \"work\", \"work\", \"work\", \"work\", \"workout\", \"workout\", \"workout\", \"workout\", \"xmn\", \"xmn\", \"xmn\", \"xmn\", \"xtac\", \"xtac\", \"xtac\", \"xv\", \"xv\", \"xv\", \"xv\", \"xwm\", \"xwm\", \"xwm\", \"xwm\", \"yesterday\", \"yesterday\", \"yesterday\", \"yesterday\", \"yt\", \"yt\", \"yt\", \"yt\", \"yyyy\", \"yyyy\", \"yyyy\", \"zc\", \"zc\", \"zc\", \"zc\", \"\\u03c6o\", \"\\u03c6o\", \"\\u03c6o\", \"\\u03c6o\"]}, \"R\": 30, \"lambda.step\": 0.01, \"plot.opts\": {\"xlab\": \"PC1\", \"ylab\": \"PC2\"}, \"topic.order\": [3, 1, 4, 2]};\n",
              "\n",
              "function LDAvis_load_lib(url, callback){\n",
              "  var s = document.createElement('script');\n",
              "  s.src = url;\n",
              "  s.async = true;\n",
              "  s.onreadystatechange = s.onload = callback;\n",
              "  s.onerror = function(){console.warn(\"failed to load library \" + url);};\n",
              "  document.getElementsByTagName(\"head\")[0].appendChild(s);\n",
              "}\n",
              "\n",
              "if(typeof(LDAvis) !== \"undefined\"){\n",
              "   // already loaded: just create the visualization\n",
              "   !function(LDAvis){\n",
              "       new LDAvis(\"#\" + \"ldavis_el57140649147999480236734668\", ldavis_el57140649147999480236734668_data);\n",
              "   }(LDAvis);\n",
              "}else if(typeof define === \"function\" && define.amd){\n",
              "   // require.js is available: use it to load d3/LDAvis\n",
              "   require.config({paths: {d3: \"https://cdnjs.cloudflare.com/ajax/libs/d3/3.5.5/d3.min\"}});\n",
              "   require([\"d3\"], function(d3){\n",
              "      window.d3 = d3;\n",
              "      LDAvis_load_lib(\"https://cdn.rawgit.com/bmabey/pyLDAvis/files/ldavis.v1.0.0.js\", function(){\n",
              "        new LDAvis(\"#\" + \"ldavis_el57140649147999480236734668\", ldavis_el57140649147999480236734668_data);\n",
              "      });\n",
              "    });\n",
              "}else{\n",
              "    // require.js not available: dynamically load d3 & LDAvis\n",
              "    LDAvis_load_lib(\"https://cdnjs.cloudflare.com/ajax/libs/d3/3.5.5/d3.min.js\", function(){\n",
              "         LDAvis_load_lib(\"https://cdn.rawgit.com/bmabey/pyLDAvis/files/ldavis.v1.0.0.js\", function(){\n",
              "                 new LDAvis(\"#\" + \"ldavis_el57140649147999480236734668\", ldavis_el57140649147999480236734668_data);\n",
              "            })\n",
              "         });\n",
              "}\n",
              "</script>"
            ],
            "text/plain": [
              "PreparedData(topic_coordinates=              x         y  topics  cluster       Freq\n",
              "topic                                                \n",
              "2      0.003627 -0.007916       1        1  40.358162\n",
              "0      0.006175  0.004720       2        1  28.196491\n",
              "3     -0.001638  0.003932       3        1  17.238466\n",
              "1     -0.008164 -0.000736       4        1  14.206881, topic_info=             Term          Freq         Total Category  logprob  loglift\n",
              "206         music  10951.000000  10951.000000  Default  30.0000  30.0000\n",
              "308          song   3397.000000   3397.000000  Default  29.0000  29.0000\n",
              "956          data   2743.000000   2743.000000  Default  28.0000  28.0000\n",
              "25          audio   3605.000000   3605.000000  Default  27.0000  27.0000\n",
              "108       feature   4141.000000   4141.000000  Default  26.0000  26.0000\n",
              "...           ...           ...           ...      ...      ...      ...\n",
              "669         model    407.751965   4286.952702   Topic4  -5.4989  -0.4012\n",
              "2116   proceeding    249.085882   1692.921973   Topic4  -5.9918   0.0350\n",
              "361         using    335.840088   3149.948232   Topic4  -5.6929  -0.2871\n",
              "232   performance    275.952710   2176.043070   Topic4  -5.8894  -0.1136\n",
              "234         pitch    256.527734   2016.476809   Topic4  -5.9623  -0.1104\n",
              "\n",
              "[379 rows x 6 columns], token_table=       Topic      Freq  Term\n",
              "term                        \n",
              "26102      1  0.196946  aacr\n",
              "26102      2  0.328244  aacr\n",
              "26102      3  0.065649  aacr\n",
              "26102      4  0.393893  aacr\n",
              "1          1  0.288806    ac\n",
              "...      ...       ...   ...\n",
              "3591       4  0.106783    zc\n",
              "7918       1  0.301298    φo\n",
              "7918       2  0.602597    φo\n",
              "7918       3  0.075325    φo\n",
              "7918       4  0.075325    φo\n",
              "\n",
              "[987 rows x 3 columns], R=30, lambda_step=0.01, plot_opts={'xlab': 'PC1', 'ylab': 'PC2'}, topic_order=[3, 1, 4, 2])"
            ]
          },
          "metadata": {
            "tags": []
          },
          "execution_count": 12
        }
      ]
    }
  ]
}